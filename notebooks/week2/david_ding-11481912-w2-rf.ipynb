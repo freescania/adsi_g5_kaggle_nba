{
 "cells": [
  {
   "cell_type": "code",
   "execution_count": 1,
   "metadata": {},
   "outputs": [
    {
     "name": "stdout",
     "output_type": "stream",
     "text": [
      "(8000, 22)\n",
      "(3799, 21)\n"
     ]
    }
   ],
   "source": [
    "import pandas as pd\n",
    "import numpy as np\n",
    "import sys\n",
    "\n",
    "sys.path.append(\"/home/jovyan/work\")\n",
    "\n",
    "train_data = pd.read_csv('../../data/raw/train.csv')\n",
    "test_data = pd.read_csv('../../data/raw/test.csv')\n",
    "print(train_data.shape)\n",
    "print(test_data.shape)"
   ]
  },
  {
   "cell_type": "code",
   "execution_count": 2,
   "metadata": {},
   "outputs": [
    {
     "name": "stdout",
     "output_type": "stream",
     "text": [
      "(8000, 22)\n",
      "(6400, 19)\n",
      "(1600, 19)\n"
     ]
    }
   ],
   "source": [
    "from sklearn.model_selection import train_test_split\n",
    "from sklearn.preprocessing import StandardScaler\n",
    "\n",
    "train_data_x = train_data.copy()\n",
    "train_data_x = train_data_x.drop(['Id_old', 'Id'], axis=1)\n",
    "train_data_target = train_data_x.pop('TARGET_5Yrs')\n",
    "\n",
    "test_data_x = test_data.drop(['Id_old', 'Id'], axis=1)\n",
    "\n",
    "scaler = StandardScaler()\n",
    "df_train_scaled = pd.DataFrame(scaler.fit_transform(train_data_x), columns=train_data_x.columns)\n",
    "df_test_scaled = pd.DataFrame(scaler.fit_transform(test_data_x), columns=test_data_x.columns)\n",
    "\n",
    "X_train, X_val, y_train, y_val = train_test_split(df_train_scaled, train_data_target, test_size=0.2, random_state=8)\n",
    "\n",
    "print(train_data.shape)\n",
    "print(X_train.shape)\n",
    "print(X_val.shape)"
   ]
  },
  {
   "cell_type": "code",
   "execution_count": 3,
   "metadata": {},
   "outputs": [],
   "source": [
    "from sklearn.metrics import roc_auc_score\n",
    "from imblearn.under_sampling import RandomUnderSampler\n",
    "from imblearn.over_sampling import SMOTE\n",
    "\n",
    "sm = SMOTE(random_state=42)\n",
    "\n",
    "X_sm, y_sm = sm.fit_resample(X_train, y_train)\n",
    "X_val_sm, y_val_sm = sm.fit_resample(X_val, y_val)"
   ]
  },
  {
   "cell_type": "markdown",
   "metadata": {},
   "source": [
    "### Base RF Model"
   ]
  },
  {
   "cell_type": "code",
   "execution_count": 4,
   "metadata": {},
   "outputs": [
    {
     "name": "stdout",
     "output_type": "stream",
     "text": [
      "ROC_AUC Score: 0.865\n",
      "-----------\n",
      "Confusion Matrix with thresthold of 0.5:\n",
      "TN: 696, FP: 647\n",
      "FN: 71, TP: 1272\n",
      "1919 out of 2686 or 71% of players are predicted to be 5+ Yrs\n",
      "-----------\n",
      "Recall: 0.9471\n",
      "Accuracy: 0.7327\n",
      "Balanced Accuracy: 0.7327\n",
      "F1: 0.7799\n",
      "-----------\n",
      "No Skill: ROC AUC=0.500\n",
      "Logistic: ROC AUC=0.865\n"
     ]
    },
    {
     "data": {
      "image/png": "[encoded data removed]",
      "text/plain": [
       "<Figure size 432x288 with 1 Axes>"
      ]
     },
     "metadata": {
      "needs_background": "light"
     },
     "output_type": "display_data"
    }
   ],
   "source": [
    "from sklearn.ensemble import RandomForestClassifier\n",
    "from sklearn.calibration import CalibratedClassifierCV\n",
    "from src.visualization.visualize import eval_metrics\n",
    "\n",
    "rfclf = RandomForestClassifier()\n",
    "rfclf = CalibratedClassifierCV(base_estimator=rfclf, cv=5)\n",
    "rfclf = rfclf.fit(X_sm, y_sm)\n",
    "y_pred = rfclf.predict_proba(X_val_sm)[:,1]\n",
    "eval_metrics(y_pred, y_val_sm, praba_threshold=0.5)"
   ]
  },
  {
   "cell_type": "markdown",
   "metadata": {},
   "source": [
    "### Hyperot"
   ]
  },
  {
   "cell_type": "code",
   "execution_count": 5,
   "metadata": {},
   "outputs": [
    {
     "name": "stdout",
     "output_type": "stream",
     "text": [
      "WARN: OMP_NUM_THREADS=None =>\n",
      "... If you are using openblas if you are using openblas set OMP_NUM_THREADS=1 or risk subprocess calls hanging indefinitely\n"
     ]
    }
   ],
   "source": [
    "from hpsklearn import HyperoptEstimator, sgd\n",
    "from hyperopt import hp\n",
    "\n",
    "sgd_penalty = 'l2'\n",
    "sgd_loss = hp.pchoice('loss', [(0.50, 'hinge'), (0.25, 'log'), (0.25, 'huber')])\n",
    "sgd_alpha = hp.loguniform('alpha', low=np.log(1e-5), high=np.log(1))\n",
    "\n",
    "estim = HyperoptEstimator(classifier=sgd('my_sgd', penalty=sgd_penalty, loss=sgd_loss, alpha=sgd_alpha))"
   ]
  },
  {
   "cell_type": "code",
   "execution_count": 6,
   "metadata": {},
   "outputs": [
    {
     "name": "stdout",
     "output_type": "stream",
     "text": [
      "100%|██████████| 1/1 [00:00<00:00, 11.24trial/s, best loss: 0.3054903801032379]\n",
      "100%|██████████| 2/2 [00:00<00:00, 41.50trial/s, best loss: 0.25293289535429375]\n",
      "100%|██████████| 3/3 [00:00<00:00, 48.20trial/s, best loss: 0.25293289535429375]\n",
      "100%|██████████| 4/4 [00:00<00:00, 63.11trial/s, best loss: 0.25293289535429375]\n",
      "100%|██████████| 5/5 [00:00<00:00, 76.37trial/s, best loss: 0.25293289535429375]\n",
      "100%|██████████| 6/6 [00:00<00:00, 89.16trial/s, best loss: 0.25293289535429375]\n",
      "100%|██████████| 7/7 [00:00<00:00, 93.45trial/s, best loss: 0.25293289535429375]\n",
      "100%|██████████| 8/8 [00:00<00:00, 148.82trial/s, best loss: 0.25293289535429375]\n",
      "100%|██████████| 9/9 [00:00<00:00, 134.92trial/s, best loss: 0.25293289535429375]\n",
      "100%|██████████| 10/10 [00:00<00:00, 193.39trial/s, best loss: 0.25293289535429375]\n"
     ]
    }
   ],
   "source": [
    " estim.fit(X_sm, y_sm)"
   ]
  },
  {
   "cell_type": "code",
   "execution_count": null,
   "metadata": {},
   "outputs": [],
   "source": []
  }
 ],
 "metadata": {
  "kernelspec": {
   "display_name": "Python 3",
   "language": "python",
   "name": "python3"
  },
  "language_info": {
   "codemirror_mode": {
    "name": "ipython",
    "version": 3
   },
   "file_extension": ".py",
   "mimetype": "text/x-python",
   "name": "python",
   "nbconvert_exporter": "python",
   "pygments_lexer": "ipython3",
   "version": "3.7.6"
  }
 },
 "nbformat": 4,
 "nbformat_minor": 4
}
