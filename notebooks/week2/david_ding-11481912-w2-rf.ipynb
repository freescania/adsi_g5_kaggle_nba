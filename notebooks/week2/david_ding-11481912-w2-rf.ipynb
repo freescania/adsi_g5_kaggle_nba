{
 "cells": [
  {
   "cell_type": "code",
   "execution_count": 1,
   "metadata": {},
   "outputs": [
    {
     "name": "stdout",
     "output_type": "stream",
     "text": [
      "(8000, 22)\n",
      "(3799, 21)\n"
     ]
    }
   ],
   "source": [
    "import pandas as pd\n",
    "import numpy as np\n",
    "import sys\n",
    "\n",
    "sys.path.append(\"/home/jovyan/work\")\n",
    "\n",
    "train_data = pd.read_csv('../../data/raw/train.csv')\n",
    "test_data = pd.read_csv('../../data/raw/test.csv')\n",
    "print(train_data.shape)\n",
    "print(test_data.shape)"
   ]
  },
  {
   "cell_type": "code",
   "execution_count": 9,
   "metadata": {},
   "outputs": [
    {
     "name": "stdout",
     "output_type": "stream",
     "text": [
      "(8000, 22)\n",
      "(6400, 19)\n",
      "(1600, 19)\n"
     ]
    }
   ],
   "source": [
    "from sklearn.model_selection import train_test_split\n",
    "from sklearn.preprocessing import StandardScaler\n",
    "\n",
    "train_data_x = train_data.copy()\n",
    "train_data_x = train_data_x.drop(['Id_old', 'Id'], axis=1)\n",
    "train_data_target = train_data_x.pop('TARGET_5Yrs')\n",
    "\n",
    "test_data_x = test_data.drop(['Id_old', 'Id'], axis=1)\n",
    "\n",
    "scaler = StandardScaler()\n",
    "df_train_scaled = pd.DataFrame(scaler.fit_transform(train_data_x), columns=train_data_x.columns)\n",
    "df_test_scaled = pd.DataFrame(scaler.fit_transform(test_data_x), columns=test_data_x.columns)\n",
    "\n",
    "X_train, X_val, y_train, y_val = train_test_split(df_train_scaled, train_data_target, test_size=0.2, random_state=8)\n",
    "\n",
    "print(train_data.shape)\n",
    "print(X_train.shape)\n",
    "print(X_val.shape)"
   ]
  },
  {
   "cell_type": "code",
   "execution_count": 10,
   "metadata": {},
   "outputs": [],
   "source": [
    "from sklearn.metrics import roc_auc_score\n",
    "from imblearn.under_sampling import RandomUnderSampler\n",
    "from imblearn.over_sampling import SMOTE\n",
    "\n",
    "sm = SMOTE(random_state=42)\n",
    "\n",
    "X_sm, y_sm = sm.fit_resample(X_train, y_train)\n",
    "X_val_sm, y_val_sm = sm.fit_resample(X_val, y_val)"
   ]
  },
  {
   "cell_type": "markdown",
   "metadata": {},
   "source": [
    "### Base RF Model"
   ]
  },
  {
   "cell_type": "code",
   "execution_count": 11,
   "metadata": {},
   "outputs": [
    {
     "name": "stdout",
     "output_type": "stream",
     "text": [
      "ROC_AUC Score: 0.862\n",
      "-----------\n",
      "Confusion Matrix with thresthold of 0.5:\n",
      "TN: 691, FP: 652\n",
      "FN: 70, TP: 1273\n",
      "1925 out of 2686 or 72% of players are predicted to be 5+ Yrs\n",
      "-----------\n",
      "Recall: 0.9479\n",
      "Accuracy: 0.7312\n",
      "Balanced Accuracy: 0.7312\n",
      "F1: 0.7791\n",
      "-----------\n",
      "No Skill: ROC AUC=0.500\n",
      "Logistic: ROC AUC=0.862\n"
     ]
    },
    {
     "data": {
      "image/png": "[encoded data removed]",
      "text/plain": [
       "<Figure size 432x288 with 1 Axes>"
      ]
     },
     "metadata": {
      "needs_background": "light"
     },
     "output_type": "display_data"
    }
   ],
   "source": [
    "from sklearn.ensemble import RandomForestClassifier\n",
    "from sklearn.calibration import CalibratedClassifierCV\n",
    "from src.visualization.visualize import eval_metrics\n",
    "\n",
    "rfclf = RandomForestClassifier()\n",
    "rfclf = CalibratedClassifierCV(base_estimator=rfclf, cv=5)\n",
    "rfclf = rfclf.fit(X_sm, y_sm)\n",
    "y_pred = rfclf.predict_proba(X_val_sm)[:,1]\n",
    "eval_metrics(y_pred, y_val_sm, praba_threshold=0.5)"
   ]
  },
  {
   "cell_type": "code",
   "execution_count": null,
   "metadata": {},
   "outputs": [],
   "source": []
  }
 ],
 "metadata": {
  "kernelspec": {
   "display_name": "Python 3",
   "language": "python",
   "name": "python3"
  },
  "language_info": {
   "codemirror_mode": {
    "name": "ipython",
    "version": 3
   },
   "file_extension": ".py",
   "mimetype": "text/x-python",
   "name": "python",
   "nbconvert_exporter": "python",
   "pygments_lexer": "ipython3",
   "version": "3.7.6"
  }
 },
 "nbformat": 4,
 "nbformat_minor": 4
}
