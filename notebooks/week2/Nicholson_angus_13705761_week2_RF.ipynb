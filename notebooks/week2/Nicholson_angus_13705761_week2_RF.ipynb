{
 "cells": [
  {
   "cell_type": "code",
   "execution_count": 38,
   "id": "accomplished-apparel",
   "metadata": {},
   "outputs": [],
   "source": [
    "# Package Imports\n",
    "\n",
    "# Data/numeric manipulation\n",
    "import pandas as pd\n",
    "import numpy as np\n",
    "\n",
    "# Visualisation\n",
    "import matplotlib.pyplot as plt\n",
    "from sklearn.metrics import plot_roc_curve\n",
    "\n",
    "# Pre-processing\n",
    "from sklearn.model_selection import train_test_split\n",
    "from sklearn.preprocessing import MinMaxScaler\n",
    "\n",
    "# Modelling & Evaluation\n",
    "from sklearn.metrics import accuracy_score\n",
    "from xgboost import XGBClassifier\n",
    "from sklearn.ensemble import RandomForestClassifier\n",
    "from sklearn.model_selection import RandomizedSearchCV\n",
    "from sklearn.metrics import roc_auc_score\n",
    "from sklearn.utils import resample\n",
    "from sklearn.metrics import confusion_matrix\n"
   ]
  },
  {
   "cell_type": "code",
   "execution_count": 2,
   "id": "breeding-triple",
   "metadata": {},
   "outputs": [],
   "source": [
    "### Load Data\n",
    "\n",
    "# Read in data\n",
    "train_data = pd.read_csv(r'C:\\Users\\Angus\\Documents\\UTS MDSI\\Advanced DSI\\NBA Kaggle\\adsi_g5_kaggle_nba\\data\\train.csv')\n",
    "test_data = pd.read_csv(r'C:\\Users\\Angus\\Documents\\UTS MDSI\\Advanced DSI\\NBA Kaggle\\adsi_g5_kaggle_nba\\data\\test.csv')"
   ]
  },
  {
   "cell_type": "code",
   "execution_count": 24,
   "id": "grateful-bangladesh",
   "metadata": {},
   "outputs": [],
   "source": [
    "# Adjust data\n",
    "train_data_x = train_data.copy()\n",
    "train_data_x = train_data_x.drop(['Id_old', 'Id'], axis=1)\n",
    "train_data_target = train_data_x.pop('TARGET_5Yrs')\n",
    "test_data_x = test_data.drop(['Id_old', 'Id'], axis=1)\n",
    "\n",
    "# MinMax Adjust data\n",
    "scaler = MinMaxScaler()\n",
    "df_train_scaled = pd.DataFrame(scaler.fit_transform(train_data_x), columns=train_data_x.columns)\n",
    "df_test_data_scaled = pd.DataFrame(scaler.fit_transform(test_data_x), columns=test_data_x.columns)\n",
    "\n",
    "# train test val splits\n",
    "X_data, X_test, y_data, y_test = train_test_split(df_train_scaled, train_data_target, test_size=0.2, random_state=42)\n",
    "X_train, X_val, y_train, y_val = train_test_split(X_data, y_data, test_size=0.2, random_state=42)"
   ]
  },
  {
   "cell_type": "code",
   "execution_count": 32,
   "id": "historical-reform",
   "metadata": {},
   "outputs": [],
   "source": [
    "# Adjust data\n",
    "# Returning to one dataframe\n",
    "training_set = pd.concat([X_train, y_train], axis=1)\n",
    "\n",
    "# Separating classes\n",
    "Plus5Y = training_set[training_set.TARGET_5Yrs == 1]\n",
    "NoPlus5Y = training_set[training_set.TARGET_5Yrs == 0]"
   ]
  },
  {
   "cell_type": "code",
   "execution_count": 33,
   "id": "future-separation",
   "metadata": {},
   "outputs": [],
   "source": [
    "# Oversampling the majority\n",
    "oversample = resample(NoPlus5Y, \n",
    "                       replace=True, \n",
    "                       n_samples=len(Plus5Y), #set the number of samples to equal the number of the majority class\n",
    "                       random_state=42)\n",
    "# Returning to new training set\n",
    "oversample_train = pd.concat([Plus5Y, oversample])\n",
    "oversample_train.TARGET_5Yrs.value_counts(normalize=True)\n",
    "\n",
    "# Set data for analysis\n",
    "# Separate oversampled data into X and y sets\n",
    "oversample_x_train = oversample_train.drop('TARGET_5Yrs', axis=1)\n",
    "oversample_y_train = oversample_train.TARGET_5Yrs\n"
   ]
  },
  {
   "cell_type": "code",
   "execution_count": 34,
   "id": "greek-cathedral",
   "metadata": {},
   "outputs": [
    {
     "name": "stdout",
     "output_type": "stream",
     "text": [
      "RandomForestClassifier(max_depth=9, min_samples_split=5, n_estimators=257)\n"
     ]
    }
   ],
   "source": [
    "# Train RF Model\n",
    "\n",
    "clf = RandomForestClassifier(max_depth= 9, \n",
    "                            min_samples_leaf= 1, \n",
    "                            min_samples_split= 5, \n",
    "                            n_estimators= 257)\n",
    "clf.fit(oversample_x_train, oversample_y_train)\n",
    "print(clf)"
   ]
  },
  {
   "cell_type": "code",
   "execution_count": 30,
   "id": "bright-national",
   "metadata": {},
   "outputs": [
    {
     "data": {
      "image/png": "[encoded data removed]",
      "text/plain": [
       "<Figure size 432x288 with 1 Axes>"
      ]
     },
     "metadata": {
      "needs_background": "light"
     },
     "output_type": "display_data"
    }
   ],
   "source": [
    "# Plot ROC AUC \n",
    "\n",
    "ax = plt.gca()\n",
    "rfc_disp = plot_roc_curve(clf, X_test, y_test, ax=ax, alpha=0.8)\n",
    "plt.show()"
   ]
  },
  {
   "cell_type": "code",
   "execution_count": 31,
   "id": "timely-dynamics",
   "metadata": {},
   "outputs": [
    {
     "data": {
      "text/plain": [
       "0.7015930952152256"
      ]
     },
     "execution_count": 31,
     "metadata": {},
     "output_type": "execute_result"
    }
   ],
   "source": [
    "# Model ROC\n",
    "roc_auc_score(y_val, clf.predict_proba(X_val)[:,1])"
   ]
  },
  {
   "cell_type": "code",
   "execution_count": 39,
   "id": "active-walnut",
   "metadata": {},
   "outputs": [
    {
     "name": "stdout",
     "output_type": "stream",
     "text": [
      "[[ 129  134]\n",
      " [ 288 1049]]\n"
     ]
    }
   ],
   "source": [
    "y_test_pred = clf.predict(X_test)\n",
    "conf_mat = confusion_matrix(y_test, y_test_pred)\n",
    "print(conf_mat)"
   ]
  },
  {
   "cell_type": "code",
   "execution_count": 20,
   "id": "initial-greenhouse",
   "metadata": {},
   "outputs": [
    {
     "name": "stdout",
     "output_type": "stream",
     "text": [
      "RandomForestClassifier(max_depth=9, min_samples_split=5, n_estimators=257)\n"
     ]
    }
   ],
   "source": [
    "### Print out\n",
    "\n",
    "# Train RF Model\n",
    "\n",
    "clf = RandomForestClassifier(max_depth= 9, \n",
    "                            min_samples_leaf= 1, \n",
    "                            min_samples_split= 5, \n",
    "                            n_estimators= 257)\n",
    "clf.fit(df_train_scaled, train_data_target)\n",
    "print(clf)"
   ]
  },
  {
   "cell_type": "code",
   "execution_count": 35,
   "id": "arabic-ready",
   "metadata": {},
   "outputs": [
    {
     "data": {
      "text/html": [
       "<div>\n",
       "<style scoped>\n",
       "    .dataframe tbody tr th:only-of-type {\n",
       "        vertical-align: middle;\n",
       "    }\n",
       "\n",
       "    .dataframe tbody tr th {\n",
       "        vertical-align: top;\n",
       "    }\n",
       "\n",
       "    .dataframe thead th {\n",
       "        text-align: right;\n",
       "    }\n",
       "</style>\n",
       "<table border=\"1\" class=\"dataframe\">\n",
       "  <thead>\n",
       "    <tr style=\"text-align: right;\">\n",
       "      <th></th>\n",
       "      <th>Id</th>\n",
       "      <th>TARGET_5Yrs</th>\n",
       "    </tr>\n",
       "  </thead>\n",
       "  <tbody>\n",
       "    <tr>\n",
       "      <th>0</th>\n",
       "      <td>0</td>\n",
       "      <td>0.0</td>\n",
       "    </tr>\n",
       "    <tr>\n",
       "      <th>1</th>\n",
       "      <td>1</td>\n",
       "      <td>0.0</td>\n",
       "    </tr>\n",
       "    <tr>\n",
       "      <th>2</th>\n",
       "      <td>2</td>\n",
       "      <td>1.0</td>\n",
       "    </tr>\n",
       "    <tr>\n",
       "      <th>3</th>\n",
       "      <td>3</td>\n",
       "      <td>1.0</td>\n",
       "    </tr>\n",
       "    <tr>\n",
       "      <th>4</th>\n",
       "      <td>4</td>\n",
       "      <td>0.0</td>\n",
       "    </tr>\n",
       "  </tbody>\n",
       "</table>\n",
       "</div>"
      ],
      "text/plain": [
       "   Id  TARGET_5Yrs\n",
       "0   0          0.0\n",
       "1   1          0.0\n",
       "2   2          1.0\n",
       "3   3          1.0\n",
       "4   4          0.0"
      ]
     },
     "execution_count": 35,
     "metadata": {},
     "output_type": "execute_result"
    }
   ],
   "source": [
    "# Check against test set\n",
    "y_pred = clf.predict(df_test_data_scaled)\n",
    "\n",
    "# Submission output\n",
    "preddf = pd.DataFrame(y_pred, columns=['TARGET_5Yrs'])\n",
    "submit = pd.DataFrame(test_data['Id']).merge(preddf, right_index=True, left_index=True, how='left')\n",
    "\n",
    "submit.head()"
   ]
  },
  {
   "cell_type": "code",
   "execution_count": 37,
   "id": "normal-traffic",
   "metadata": {},
   "outputs": [],
   "source": [
    "# Print out\n",
    "submit.to_csv(r'C:\\Users\\Angus\\Documents\\UTS MDSI\\Advanced DSI\\NBA Kaggle\\ANSubmitRFUpspl.csv')"
   ]
  },
  {
   "cell_type": "code",
   "execution_count": 36,
   "id": "stable-montreal",
   "metadata": {},
   "outputs": [
    {
     "data": {
      "text/plain": [
       "['C:\\\\Users\\\\Angus\\\\Documents\\\\UTS MDSI\\\\Advanced DSI\\\\NBA Kaggle\\\\adsi_g5_kaggle_nba\\\\models\\\\AN_HP_RF_UpSpml.joblib']"
      ]
     },
     "execution_count": 36,
     "metadata": {},
     "output_type": "execute_result"
    }
   ],
   "source": [
    "# Save model\n",
    "from joblib import dump  \n",
    "\n",
    "dump(clf, r'C:\\Users\\Angus\\Documents\\UTS MDSI\\Advanced DSI\\NBA Kaggle\\adsi_g5_kaggle_nba\\models\\AN_HP_RF_UpSpml.joblib')"
   ]
  },
  {
   "cell_type": "code",
   "execution_count": null,
   "id": "alternate-grocery",
   "metadata": {},
   "outputs": [],
   "source": []
  }
 ],
 "metadata": {
  "kernelspec": {
   "display_name": "Python 3",
   "language": "python",
   "name": "python3"
  },
  "language_info": {
   "codemirror_mode": {
    "name": "ipython",
    "version": 3
   },
   "file_extension": ".py",
   "mimetype": "text/x-python",
   "name": "python",
   "nbconvert_exporter": "python",
   "pygments_lexer": "ipython3",
   "version": "3.8.7"
  }
 },
 "nbformat": 4,
 "nbformat_minor": 5
}
