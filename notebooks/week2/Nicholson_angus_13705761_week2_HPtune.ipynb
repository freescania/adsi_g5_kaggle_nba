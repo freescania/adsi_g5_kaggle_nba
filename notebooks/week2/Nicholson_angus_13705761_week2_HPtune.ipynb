{
 "cells": [
  {
   "cell_type": "code",
   "execution_count": 20,
   "id": "complicated-quest",
   "metadata": {},
   "outputs": [
    {
     "ename": "ModuleNotFoundError",
     "evalue": "No module named 'seaborn'",
     "output_type": "error",
     "traceback": [
      "\u001b[1;31m---------------------------------------------------------------------------\u001b[0m",
      "\u001b[1;31mModuleNotFoundError\u001b[0m                       Traceback (most recent call last)",
      "\u001b[1;32m<ipython-input-20-4205ebf06e75>\u001b[0m in \u001b[0;36m<module>\u001b[1;34m\u001b[0m\n\u001b[0;32m     10\u001b[0m \u001b[1;31m# Visualisation\u001b[0m\u001b[1;33m\u001b[0m\u001b[1;33m\u001b[0m\u001b[1;33m\u001b[0m\u001b[0m\n\u001b[0;32m     11\u001b[0m \u001b[1;32mimport\u001b[0m \u001b[0mmatplotlib\u001b[0m\u001b[1;33m.\u001b[0m\u001b[0mpyplot\u001b[0m \u001b[1;32mas\u001b[0m \u001b[0mplt\u001b[0m\u001b[1;33m\u001b[0m\u001b[1;33m\u001b[0m\u001b[0m\n\u001b[1;32m---> 12\u001b[1;33m \u001b[1;32mimport\u001b[0m \u001b[0mseaborn\u001b[0m \u001b[1;32mas\u001b[0m \u001b[0msns\u001b[0m\u001b[1;33m\u001b[0m\u001b[1;33m\u001b[0m\u001b[0m\n\u001b[0m\u001b[0;32m     13\u001b[0m \u001b[1;33m\u001b[0m\u001b[0m\n\u001b[0;32m     14\u001b[0m \u001b[1;31m# Pre-processing\u001b[0m\u001b[1;33m\u001b[0m\u001b[1;33m\u001b[0m\u001b[1;33m\u001b[0m\u001b[0m\n",
      "\u001b[1;31mModuleNotFoundError\u001b[0m: No module named 'seaborn'"
     ]
    }
   ],
   "source": [
    "# Package Imports\n",
    "\n",
    "# File management\n",
    "import os\n",
    "\n",
    "# Data/numeric manipulation\n",
    "import pandas as pd\n",
    "import numpy as np\n",
    "\n",
    "# Visualisation\n",
    "import matplotlib.pyplot as plt\n",
    "import seaborn as sns\n",
    "\n",
    "# Pre-processing\n",
    "from sklearn.model_selection import train_test_split\n",
    "from sklearn.preprocessing import MinMaxScaler\n",
    "from sklearn.preprocessing import StandardScaler\n",
    "\n",
    "# Modelling & Evaluation\n",
    "from sklearn.metrics import accuracy_score\n",
    "from xgboost import XGBClassifier\n",
    "from sklearn.ensemble import RandomForestClassifier\n",
    "from sklearn.model_selection import RandomizedSearchCV\n",
    "from sklearn.metrics import roc_auc_score\n",
    "from sklearn.metrics import mean_squared_error,make_scorer\n",
    "from mlxtend.evaluate import feature_importance_permutation\n",
    "from lime.lime_tabular import LimeTabularExplainer\n",
    "\n",
    "from hpsklearn import HyperoptEstimator\n",
    "from hpsklearn import any_classifier\n",
    "from hpsklearn import any_preprocessing\n",
    "from hyperopt import tpe,hp,Trials\n",
    "from hyperopt.fmin import fmin\n"
   ]
  },
  {
   "cell_type": "code",
   "execution_count": 2,
   "id": "bored-convertible",
   "metadata": {},
   "outputs": [],
   "source": [
    "### Load Data\n",
    "\n",
    "# Read in data\n",
    "train_data = pd.read_csv(r'C:\\Users\\Angus\\Documents\\UTS MDSI\\Advanced DSI\\NBA Kaggle\\adsi_g5_kaggle_nba\\data\\train.csv')\n",
    "test_data = pd.read_csv(r'C:\\Users\\Angus\\Documents\\UTS MDSI\\Advanced DSI\\NBA Kaggle\\adsi_g5_kaggle_nba\\data\\test.csv')"
   ]
  },
  {
   "cell_type": "code",
   "execution_count": 3,
   "id": "phantom-mambo",
   "metadata": {},
   "outputs": [],
   "source": [
    "# Adjust data\n",
    "train_data_x = train_data.copy()\n",
    "train_data_x = train_data_x.drop(['Id_old', 'Id'], axis=1)\n",
    "train_data_target = train_data_x.pop('TARGET_5Yrs')\n",
    "test_data_x = test_data.drop(['Id_old', 'Id'], axis=1)\n",
    "\n",
    "# Don't MinMax Adjust data\n",
    "\"\"\"scaler = StandardScaler()\n",
    "df_train_scaled = pd.DataFrame(scaler.fit_transform(train_data_x), columns=train_data_x.columns)\n",
    "df_test_data_scaled = pd.DataFrame(scaler.fit_transform(test_data_x), columns=test_data_x.columns)\"\"\"\n",
    "\n",
    "# train test val splits\n",
    "X_data, X_test, y_data, y_test = train_test_split(train_data_x.to_numpy(), train_data_target.to_numpy(), test_size=0.2, random_state=42) # to numpy()\n",
    "X_train, X_val, y_train, y_val = train_test_split(X_data, y_data, test_size=0.2, random_state=42)"
   ]
  },
  {
   "cell_type": "code",
   "execution_count": 4,
   "id": "sticky-recognition",
   "metadata": {},
   "outputs": [
    {
     "name": "stdout",
     "output_type": "stream",
     "text": [
      "100%|█████████████████████████████████████████████████████████| 1/1 [00:05<00:00,  5.13s/trial, best loss: 0.220703125]\n",
      "100%|█████████████████████████████████████████████████████████| 2/2 [00:06<00:00,  6.62s/trial, best loss: 0.189453125]\n",
      "100%|█████████████████████████████████████████████████████████| 3/3 [00:06<00:00,  6.70s/trial, best loss: 0.189453125]\n",
      "100%|█████████████████████████████████████████████████████████| 4/4 [00:33<00:00, 33.75s/trial, best loss: 0.189453125]\n",
      "100%|█████████████████████████████████████████████████████████| 5/5 [00:03<00:00,  3.91s/trial, best loss: 0.189453125]\n",
      "100%|█████████████████████████████████████████████████████████| 6/6 [00:33<00:00, 33.64s/trial, best loss: 0.189453125]\n",
      "100%|█████████████████████████████████████████████████████████| 7/7 [00:04<00:00,  4.23s/trial, best loss: 0.189453125]\n",
      "100%|████████████████████████████████████████████████████████| 8/8 [00:06<00:00,  6.26s/trial, best loss: 0.1884765625]\n",
      "100%|██████████████████████████████████████████████████████████████| 9/9 [00:13<00:00, 13.96s/trial, best loss: 0.1875]\n",
      "100%|████████████████████████████████████████████████████████████| 10/10 [00:03<00:00,  3.82s/trial, best loss: 0.1875]\n",
      "100%|████████████████████████████████████████████████████████████| 11/11 [00:04<00:00,  4.14s/trial, best loss: 0.1875]\n",
      "100%|████████████████████████████████████████████████████████████| 12/12 [00:05<00:00,  5.84s/trial, best loss: 0.1875]\n",
      "100%|████████████████████████████████████████████████████████████| 13/13 [00:03<00:00,  3.93s/trial, best loss: 0.1875]\n",
      "100%|████████████████████████████████████████████████████████████| 14/14 [00:04<00:00,  4.15s/trial, best loss: 0.1875]\n",
      "100%|████████████████████████████████████████████████████████████| 15/15 [00:03<00:00,  3.95s/trial, best loss: 0.1875]\n",
      "100%|████████████████████████████████████████████████████████████| 16/16 [00:13<00:00, 13.92s/trial, best loss: 0.1875]\n",
      "100%|████████████████████████████████████████████████████████████| 17/17 [00:03<00:00,  3.88s/trial, best loss: 0.1875]\n",
      "100%|████████████████████████████████████████████████████████████| 18/18 [00:31<00:00, 31.43s/trial, best loss: 0.1875]\n",
      "100%|████████████████████████████████████████████████████████████| 19/19 [00:04<00:00,  4.88s/trial, best loss: 0.1875]\n",
      "100%|████████████████████████████████████████████████████████████| 20/20 [00:05<00:00,  5.72s/trial, best loss: 0.1875]\n",
      "100%|████████████████████████████████████████████████████████████| 21/21 [00:20<00:00, 20.08s/trial, best loss: 0.1875]\n",
      "100%|████████████████████████████████████████████████████████████| 22/22 [00:21<00:00, 21.72s/trial, best loss: 0.1875]\n",
      "100%|████████████████████████████████████████████████████████████| 23/23 [00:25<00:00, 25.39s/trial, best loss: 0.1875]\n",
      "100%|████████████████████████████████████████████████████████████| 24/24 [00:04<00:00,  4.07s/trial, best loss: 0.1875]\n",
      "100%|███████████████████████████████████████████████████████| 25/25 [00:04<00:00,  4.05s/trial, best loss: 0.185546875]\n",
      "100%|███████████████████████████████████████████████████████| 26/26 [00:04<00:00,  4.06s/trial, best loss: 0.185546875]\n",
      "100%|███████████████████████████████████████████████████████| 27/27 [00:04<00:00,  4.52s/trial, best loss: 0.185546875]\n",
      "100%|███████████████████████████████████████████████████████| 28/28 [00:04<00:00,  4.05s/trial, best loss: 0.185546875]\n",
      "100%|███████████████████████████████████████████████████████| 29/29 [00:04<00:00,  4.37s/trial, best loss: 0.185546875]\n",
      "100%|███████████████████████████████████████████████████████| 30/30 [00:06<00:00,  6.50s/trial, best loss: 0.185546875]\n",
      "100%|███████████████████████████████████████████████████████| 31/31 [00:07<00:00,  7.41s/trial, best loss: 0.185546875]\n",
      "100%|███████████████████████████████████████████████████████| 32/32 [00:03<00:00,  3.97s/trial, best loss: 0.185546875]\n",
      "100%|███████████████████████████████████████████████████████| 33/33 [00:09<00:00,  9.46s/trial, best loss: 0.185546875]\n",
      "100%|███████████████████████████████████████████████████████| 34/34 [00:04<00:00,  4.37s/trial, best loss: 0.185546875]\n",
      "100%|███████████████████████████████████████████████████████| 35/35 [00:04<00:00,  4.32s/trial, best loss: 0.185546875]\n",
      "100%|███████████████████████████████████████████████████████| 36/36 [00:16<00:00, 16.56s/trial, best loss: 0.185546875]\n",
      "100%|███████████████████████████████████████████████████████| 37/37 [00:33<00:00, 33.79s/trial, best loss: 0.185546875]\n",
      "100%|███████████████████████████████████████████████████████| 38/38 [00:04<00:00,  4.04s/trial, best loss: 0.185546875]\n",
      "100%|███████████████████████████████████████████████████████| 39/39 [00:08<00:00,  8.64s/trial, best loss: 0.185546875]\n",
      "100%|███████████████████████████████████████████████████████| 40/40 [00:09<00:00,  9.12s/trial, best loss: 0.185546875]\n",
      "100%|███████████████████████████████████████████████████████| 41/41 [00:04<00:00,  4.20s/trial, best loss: 0.185546875]\n",
      "100%|███████████████████████████████████████████████████████| 42/42 [00:17<00:00, 17.91s/trial, best loss: 0.185546875]\n",
      "100%|███████████████████████████████████████████████████████| 43/43 [00:07<00:00,  7.03s/trial, best loss: 0.185546875]\n",
      "100%|███████████████████████████████████████████████████████| 44/44 [00:04<00:00,  4.40s/trial, best loss: 0.185546875]\n",
      "100%|███████████████████████████████████████████████████████| 45/45 [00:04<00:00,  4.91s/trial, best loss: 0.185546875]\n",
      "100%|███████████████████████████████████████████████████████| 46/46 [00:04<00:00,  4.09s/trial, best loss: 0.185546875]\n",
      "100%|███████████████████████████████████████████████████████| 47/47 [00:21<00:00, 21.35s/trial, best loss: 0.185546875]\n",
      "100%|███████████████████████████████████████████████████████| 48/48 [00:33<00:00, 33.92s/trial, best loss: 0.185546875]\n",
      "100%|███████████████████████████████████████████████████████| 49/49 [00:03<00:00,  3.99s/trial, best loss: 0.185546875]\n",
      "100%|███████████████████████████████████████████████████████| 50/50 [00:08<00:00,  8.97s/trial, best loss: 0.185546875]\n",
      "Accuracy: 0.841\n",
      "{'learner': RandomForestClassifier(bootstrap=False, max_depth=3,\n",
      "                       max_features=0.7225753042090644, n_estimators=12,\n",
      "                       n_jobs=1, random_state=3, verbose=False), 'preprocs': (MinMaxScaler(feature_range=(0.0, 1.0)),), 'ex_preprocs': ()}\n"
     ]
    }
   ],
   "source": [
    "### Hyperopt sklearn HP tuning\n",
    "# Source: https://machinelearningmastery.com/hyperopt-for-automated-machine-learning-with-scikit-learn/\n",
    "\n",
    "# define search\n",
    "model = HyperoptEstimator(classifier=any_classifier('cla'), preprocessing=any_preprocessing('pre'), algo=tpe.suggest, max_evals=50, trial_timeout=30)\n",
    "# perform the search\n",
    "#model.fit(X_train, y_train)\n",
    "# summarize performance\n",
    "acc = model.score(X_val, y_val)\n",
    "print(\"Accuracy: %.3f\" % acc)\n",
    "# summarize the best model\n",
    "print(model.best_model())"
   ]
  },
  {
   "cell_type": "code",
   "execution_count": 15,
   "id": "extra-threshold",
   "metadata": {},
   "outputs": [
    {
     "name": "stdout",
     "output_type": "stream",
     "text": [
      "100%|████████████████████████████████████████████| 500/500 [1:10:35<00:00,  8.47s/trial, best loss: 0.1205177548455046]\n"
     ]
    }
   ],
   "source": [
    "### HP Tuning Random Forest Classifier with Hyperopt\n",
    "# Source: https://www.kaggle.com/virajbagal/eda-xgb-random-forest-parameter-tuning-hyperopt\n",
    "\n",
    "seed=2\n",
    "def objective(params):\n",
    "    est=int(params['n_estimators'])\n",
    "    md=int(params['max_depth'])\n",
    "    msl=int(params['min_samples_leaf'])\n",
    "    mss=int(params['min_samples_split'])\n",
    "    model=RandomForestRegressor(n_estimators=est,max_depth=md,min_samples_leaf=msl,min_samples_split=mss)\n",
    "    model.fit(X_train,y_train)\n",
    "    pred=model.predict(X_val)\n",
    "    score=mean_squared_error(y_val,pred)\n",
    "    return score\n",
    "\n",
    "def optimize(trial):\n",
    "    params={'n_estimators':hp.uniform('n_estimators',100,500),\n",
    "           'max_depth':hp.uniform('max_depth',5,20),\n",
    "           'min_samples_leaf':hp.uniform('min_samples_leaf',1,5),\n",
    "           'min_samples_split':hp.uniform('min_samples_split',2,6)}\n",
    "    best=fmin(fn=objective,space=params,algo=tpe.suggest,trials=trial,max_evals=50,rstate=np.random.RandomState(seed)) #max_evals=500\n",
    "    return best\n",
    "\n",
    "trial=Trials()\n",
    "#best=optimize(trial)"
   ]
  },
  {
   "cell_type": "code",
   "execution_count": 16,
   "id": "brilliant-sound",
   "metadata": {},
   "outputs": [
    {
     "name": "stdout",
     "output_type": "stream",
     "text": [
      "{'max_depth': 8.857333102037256, 'min_samples_leaf': 1.2584108003917138, 'min_samples_split': 5.263031441354376, 'n_estimators': 257.42270665919244}\n"
     ]
    }
   ],
   "source": [
    "print(best)"
   ]
  },
  {
   "cell_type": "code",
   "execution_count": 17,
   "id": "hawaiian-seven",
   "metadata": {},
   "outputs": [
    {
     "name": "stdout",
     "output_type": "stream",
     "text": [
      "{'state': 2, 'tid': 0, 'spec': None, 'result': {'loss': 0.1208891230945162, 'status': 'ok'}, 'misc': {'tid': 0, 'cmd': ('domain_attachment', 'FMinIter_Domain'), 'workdir': None, 'idxs': {'max_depth': [0], 'min_samples_leaf': [0], 'min_samples_split': [0], 'n_estimators': [0]}, 'vals': {'max_depth': [6.44924027262962], 'min_samples_leaf': [3.2557038491408083], 'min_samples_split': [3.705893814587132], 'n_estimators': [310.68170422696016]}}, 'exp_key': None, 'owner': None, 'version': 0, 'book_time': datetime.datetime(2021, 2, 14, 6, 26, 8, 298000), 'refresh_time': datetime.datetime(2021, 2, 14, 6, 26, 13, 886000)}\n",
      "{'state': 2, 'tid': 1, 'spec': None, 'result': {'loss': 0.12295173308854075, 'status': 'ok'}, 'misc': {'tid': 1, 'cmd': ('domain_attachment', 'FMinIter_Domain'), 'workdir': None, 'idxs': {'max_depth': [1], 'min_samples_leaf': [1], 'min_samples_split': [1], 'n_estimators': [1]}, 'vals': {'max_depth': [13.330641077198102], 'min_samples_leaf': [4.1346696482442695], 'min_samples_split': [3.3480498788350173], 'n_estimators': [446.25537837458296]}}, 'exp_key': None, 'owner': None, 'version': 0, 'book_time': datetime.datetime(2021, 2, 14, 6, 26, 13, 923000), 'refresh_time': datetime.datetime(2021, 2, 14, 6, 26, 28, 50000)}\n"
     ]
    }
   ],
   "source": [
    "for t in trial.trials[:2]:\n",
    "    print (t)"
   ]
  },
  {
   "cell_type": "code",
   "execution_count": 18,
   "id": "cross-monthly",
   "metadata": {},
   "outputs": [],
   "source": [
    "TID=[t['tid'] for t in trial.trials]\n",
    "Loss=[t['result']['loss'] for t in trial.trials]\n",
    "maxd=[t['misc']['vals']['max_depth'][0] for t in trial.trials]\n",
    "nest=[t['misc']['vals']['n_estimators'][0] for t in trial.trials]\n",
    "min_ss=[t['misc']['vals']['min_samples_split'][0] for t in trial.trials]\n",
    "min_sl=[t['misc']['vals']['min_samples_leaf'][0] for t in trial.trials]\n",
    "\n",
    "hyperopt_rfr=pd.DataFrame({'tid':TID,'loss':Loss,\n",
    "                          'max_depth':maxd,'n_estimators':nest,\n",
    "                          'min_samples_split':min_ss, 'min_samples_leaf':min_sl})"
   ]
  },
  {
   "cell_type": "code",
   "execution_count": 19,
   "id": "white-candidate",
   "metadata": {},
   "outputs": [
    {
     "ename": "NameError",
     "evalue": "name 'sns' is not defined",
     "output_type": "error",
     "traceback": [
      "\u001b[1;31m---------------------------------------------------------------------------\u001b[0m",
      "\u001b[1;31mNameError\u001b[0m                                 Traceback (most recent call last)",
      "\u001b[1;32m<ipython-input-19-d427ffc68009>\u001b[0m in \u001b[0;36m<module>\u001b[1;34m\u001b[0m\n\u001b[0;32m      1\u001b[0m \u001b[0mplt\u001b[0m\u001b[1;33m.\u001b[0m\u001b[0msubplots\u001b[0m\u001b[1;33m(\u001b[0m\u001b[1;36m3\u001b[0m\u001b[1;33m,\u001b[0m\u001b[1;36m2\u001b[0m\u001b[1;33m,\u001b[0m\u001b[0mfigsize\u001b[0m\u001b[1;33m=\u001b[0m\u001b[1;33m(\u001b[0m\u001b[1;36m10\u001b[0m\u001b[1;33m,\u001b[0m\u001b[1;36m10\u001b[0m\u001b[1;33m)\u001b[0m\u001b[1;33m)\u001b[0m\u001b[1;33m\u001b[0m\u001b[1;33m\u001b[0m\u001b[0m\n\u001b[0;32m      2\u001b[0m \u001b[0mplt\u001b[0m\u001b[1;33m.\u001b[0m\u001b[0msubplot\u001b[0m\u001b[1;33m(\u001b[0m\u001b[1;36m3\u001b[0m\u001b[1;33m,\u001b[0m\u001b[1;36m2\u001b[0m\u001b[1;33m,\u001b[0m\u001b[1;36m1\u001b[0m\u001b[1;33m)\u001b[0m\u001b[1;33m\u001b[0m\u001b[1;33m\u001b[0m\u001b[0m\n\u001b[1;32m----> 3\u001b[1;33m \u001b[0msns\u001b[0m\u001b[1;33m.\u001b[0m\u001b[0mscatterplot\u001b[0m\u001b[1;33m(\u001b[0m\u001b[0mx\u001b[0m\u001b[1;33m=\u001b[0m\u001b[1;34m'tid'\u001b[0m\u001b[1;33m,\u001b[0m\u001b[0my\u001b[0m\u001b[1;33m=\u001b[0m\u001b[1;34m'max_depth'\u001b[0m\u001b[1;33m,\u001b[0m\u001b[0mdata\u001b[0m\u001b[1;33m=\u001b[0m\u001b[0mhyperopt_rfr\u001b[0m\u001b[1;33m)\u001b[0m\u001b[1;33m\u001b[0m\u001b[1;33m\u001b[0m\u001b[0m\n\u001b[0m\u001b[0;32m      4\u001b[0m \u001b[0mplt\u001b[0m\u001b[1;33m.\u001b[0m\u001b[0msubplot\u001b[0m\u001b[1;33m(\u001b[0m\u001b[1;36m3\u001b[0m\u001b[1;33m,\u001b[0m\u001b[1;36m2\u001b[0m\u001b[1;33m,\u001b[0m\u001b[1;36m2\u001b[0m\u001b[1;33m)\u001b[0m\u001b[1;33m\u001b[0m\u001b[1;33m\u001b[0m\u001b[0m\n\u001b[0;32m      5\u001b[0m \u001b[0msns\u001b[0m\u001b[1;33m.\u001b[0m\u001b[0mscatterplot\u001b[0m\u001b[1;33m(\u001b[0m\u001b[0mx\u001b[0m\u001b[1;33m=\u001b[0m\u001b[1;34m'tid'\u001b[0m\u001b[1;33m,\u001b[0m\u001b[0my\u001b[0m\u001b[1;33m=\u001b[0m\u001b[1;34m'loss'\u001b[0m\u001b[1;33m,\u001b[0m\u001b[0mdata\u001b[0m\u001b[1;33m=\u001b[0m\u001b[0mhyperopt_rfr\u001b[0m\u001b[1;33m)\u001b[0m\u001b[1;33m\u001b[0m\u001b[1;33m\u001b[0m\u001b[0m\n",
      "\u001b[1;31mNameError\u001b[0m: name 'sns' is not defined"
     ]
    },
    {
     "data": {
      "image/png": "[encoded data removed]",
      "text/plain": [
       "<Figure size 720x720 with 6 Axes>"
      ]
     },
     "metadata": {
      "needs_background": "light"
     },
     "output_type": "display_data"
    }
   ],
   "source": [
    "plt.subplots(3,2,figsize=(10,10))\n",
    "plt.subplot(3,2,1)\n",
    "sns.scatterplot(x='tid',y='max_depth',data=hyperopt_rfr)\n",
    "plt.subplot(3,2,2)\n",
    "sns.scatterplot(x='tid',y='loss',data=hyperopt_rfr)\n",
    "plt.subplot(3,2,3)\n",
    "sns.scatterplot(x='tid',y='n_estimators',data=hyperopt_rfr)\n",
    "plt.subplot(3,2,4)\n",
    "sns.scatterplot(x='tid',y='min_samples_leaf',data=hyperopt_rfr)\n",
    "plt.subplot(3,2,5)\n",
    "sns.scatterplot(x='tid',y='min_samples_split',data=hyperopt_rfr)\n",
    "\n",
    "plt.tight_layout()"
   ]
  },
  {
   "cell_type": "code",
   "execution_count": null,
   "id": "scenic-driver",
   "metadata": {},
   "outputs": [],
   "source": []
  }
 ],
 "metadata": {
  "kernelspec": {
   "display_name": "Python 3",
   "language": "python",
   "name": "python3"
  },
  "language_info": {
   "codemirror_mode": {
    "name": "ipython",
    "version": 3
   },
   "file_extension": ".py",
   "mimetype": "text/x-python",
   "name": "python",
   "nbconvert_exporter": "python",
   "pygments_lexer": "ipython3",
   "version": "3.8.7"
  }
 },
 "nbformat": 4,
 "nbformat_minor": 5
}
