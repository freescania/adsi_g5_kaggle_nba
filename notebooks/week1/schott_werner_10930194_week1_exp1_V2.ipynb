{
 "cells": [
  {
   "cell_type": "markdown",
   "metadata": {
    "id": "R4ucz5fqAv75"
   },
   "source": [
    "# **Baseline GB Model**"
   ]
  },
  {
   "cell_type": "markdown",
   "metadata": {
    "id": "6URqo04UBOI4"
   },
   "source": [
    "**Business problem:** Train a binary classification model to accurately predict if an NBA rookie player will have a career that will last at least 5 years in the league."
   ]
  },
  {
   "cell_type": "markdown",
   "metadata": {
    "id": "VGuXsrPlDXOv"
   },
   "source": [
    "## **Pre-processing**"
   ]
  },
  {
   "cell_type": "markdown",
   "metadata": {
    "id": "sKPXI2L9zb_p"
   },
   "source": [
    "### Load Packages"
   ]
  },
  {
   "cell_type": "code",
   "execution_count": 1,
   "metadata": {
    "id": "6Npy7mVezb_q"
   },
   "outputs": [],
   "source": [
    "# File management\n",
    "import os\n",
    "\n",
    "# Data/numeric manipulation\n",
    "import pandas as pd\n",
    "import numpy as np\n",
    "\n",
    "# Visualisation\n",
    "import matplotlib.pyplot as plt\n",
    "\n",
    "# Pre-processing\n",
    "from sklearn.model_selection import train_test_split\n",
    "from sklearn.preprocessing import MinMaxScaler\n",
    "\n",
    "# Modelling\n",
    "import pandas as pd\n",
    "from sklearn.metrics import classification_report, confusion_matrix\n",
    "from sklearn.ensemble import GradientBoostingClassifier\n",
    "from xgboost import XGBClassifier\n",
    "from sklearn.metrics import roc_auc_score\n"
   ]
  },
  {
   "cell_type": "markdown",
   "metadata": {
    "id": "6dxcabip0N0k"
   },
   "source": [
    "### Load Data"
   ]
  },
  {
   "cell_type": "code",
   "execution_count": 2,
   "metadata": {
    "colab": {
     "base_uri": "https://localhost:8080/"
    },
    "id": "334Bxxid2lcM",
    "outputId": "4c157584-8334-476e-ea9d-aad5227a52f6"
   },
   "outputs": [
    {
     "ename": "PermissionError",
     "evalue": "[Errno 13] Permission denied: '/content'",
     "output_type": "error",
     "traceback": [
      "\u001b[0;31m\u001b[0m",
      "\u001b[0;31mPermissionError\u001b[0mTraceback (most recent call last)",
      "\u001b[0;32m<ipython-input-2-3d678a58b1a5>\u001b[0m in \u001b[0;36m<module>\u001b[0;34m\u001b[0m\n\u001b[1;32m      1\u001b[0m \u001b[0;31m# Create data directory\u001b[0m\u001b[0;34m\u001b[0m\u001b[0;34m\u001b[0m\u001b[0;34m\u001b[0m\u001b[0m\n\u001b[1;32m      2\u001b[0m \u001b[0;32mif\u001b[0m \u001b[0;32mnot\u001b[0m \u001b[0mos\u001b[0m\u001b[0;34m.\u001b[0m\u001b[0mpath\u001b[0m\u001b[0;34m.\u001b[0m\u001b[0mexists\u001b[0m\u001b[0;34m(\u001b[0m\u001b[0;34m'/content/kaggle'\u001b[0m\u001b[0;34m)\u001b[0m\u001b[0;34m:\u001b[0m\u001b[0;34m\u001b[0m\u001b[0;34m\u001b[0m\u001b[0m\n\u001b[0;32m----> 3\u001b[0;31m     \u001b[0mos\u001b[0m\u001b[0;34m.\u001b[0m\u001b[0mmakedirs\u001b[0m\u001b[0;34m(\u001b[0m\u001b[0;34m'/content/kaggle'\u001b[0m\u001b[0;34m)\u001b[0m\u001b[0;34m\u001b[0m\u001b[0;34m\u001b[0m\u001b[0m\n\u001b[0m\u001b[1;32m      4\u001b[0m \u001b[0;34m\u001b[0m\u001b[0m\n\u001b[1;32m      5\u001b[0m \u001b[0;31m# Create output directory\u001b[0m\u001b[0;34m\u001b[0m\u001b[0;34m\u001b[0m\u001b[0;34m\u001b[0m\u001b[0m\n",
      "\u001b[0;32m/opt/conda/lib/python3.7/os.py\u001b[0m in \u001b[0;36mmakedirs\u001b[0;34m(name, mode, exist_ok)\u001b[0m\n\u001b[1;32m    209\u001b[0m     \u001b[0;32mif\u001b[0m \u001b[0mhead\u001b[0m \u001b[0;32mand\u001b[0m \u001b[0mtail\u001b[0m \u001b[0;32mand\u001b[0m \u001b[0;32mnot\u001b[0m \u001b[0mpath\u001b[0m\u001b[0;34m.\u001b[0m\u001b[0mexists\u001b[0m\u001b[0;34m(\u001b[0m\u001b[0mhead\u001b[0m\u001b[0;34m)\u001b[0m\u001b[0;34m:\u001b[0m\u001b[0;34m\u001b[0m\u001b[0;34m\u001b[0m\u001b[0m\n\u001b[1;32m    210\u001b[0m         \u001b[0;32mtry\u001b[0m\u001b[0;34m:\u001b[0m\u001b[0;34m\u001b[0m\u001b[0;34m\u001b[0m\u001b[0m\n\u001b[0;32m--> 211\u001b[0;31m             \u001b[0mmakedirs\u001b[0m\u001b[0;34m(\u001b[0m\u001b[0mhead\u001b[0m\u001b[0;34m,\u001b[0m \u001b[0mexist_ok\u001b[0m\u001b[0;34m=\u001b[0m\u001b[0mexist_ok\u001b[0m\u001b[0;34m)\u001b[0m\u001b[0;34m\u001b[0m\u001b[0;34m\u001b[0m\u001b[0m\n\u001b[0m\u001b[1;32m    212\u001b[0m         \u001b[0;32mexcept\u001b[0m \u001b[0mFileExistsError\u001b[0m\u001b[0;34m:\u001b[0m\u001b[0;34m\u001b[0m\u001b[0;34m\u001b[0m\u001b[0m\n\u001b[1;32m    213\u001b[0m             \u001b[0;31m# Defeats race condition when another thread created the path\u001b[0m\u001b[0;34m\u001b[0m\u001b[0;34m\u001b[0m\u001b[0;34m\u001b[0m\u001b[0m\n",
      "\u001b[0;32m/opt/conda/lib/python3.7/os.py\u001b[0m in \u001b[0;36mmakedirs\u001b[0;34m(name, mode, exist_ok)\u001b[0m\n\u001b[1;32m    219\u001b[0m             \u001b[0;32mreturn\u001b[0m\u001b[0;34m\u001b[0m\u001b[0;34m\u001b[0m\u001b[0m\n\u001b[1;32m    220\u001b[0m     \u001b[0;32mtry\u001b[0m\u001b[0;34m:\u001b[0m\u001b[0;34m\u001b[0m\u001b[0;34m\u001b[0m\u001b[0m\n\u001b[0;32m--> 221\u001b[0;31m         \u001b[0mmkdir\u001b[0m\u001b[0;34m(\u001b[0m\u001b[0mname\u001b[0m\u001b[0;34m,\u001b[0m \u001b[0mmode\u001b[0m\u001b[0;34m)\u001b[0m\u001b[0;34m\u001b[0m\u001b[0;34m\u001b[0m\u001b[0m\n\u001b[0m\u001b[1;32m    222\u001b[0m     \u001b[0;32mexcept\u001b[0m \u001b[0mOSError\u001b[0m\u001b[0;34m:\u001b[0m\u001b[0;34m\u001b[0m\u001b[0;34m\u001b[0m\u001b[0m\n\u001b[1;32m    223\u001b[0m         \u001b[0;31m# Cannot rely on checking for EEXIST, since the operating system\u001b[0m\u001b[0;34m\u001b[0m\u001b[0;34m\u001b[0m\u001b[0;34m\u001b[0m\u001b[0m\n",
      "\u001b[0;31mPermissionError\u001b[0m: [Errno 13] Permission denied: '/content'"
     ]
    }
   ],
   "source": [
    "# Create data directory\r\n",
    "if not os.path.exists('/content/kaggle'):\r\n",
    "    os.makedirs('/content/kaggle')\r\n",
    "    \r\n",
    "# Create output directory\r\n",
    "if not os.path.exists('/content/output'):\r\n",
    "    os.makedirs('/content/output')\r\n",
    "\r\n",
    "# Download data from Kaggle API, unzip and place in data directory\r\n",
    "os.environ['KAGGLE_USERNAME'] = \"kallikrates\"\r\n",
    "os.environ['KAGGLE_KEY'] = \"6ec6a025503be3d3b75961c4c2ac2748\"\r\n",
    "!kaggle datasets download -d kallikrates/nba-career-prediction-data\r\n",
    "!unzip -q nba-career-prediction-data.zip -d /content/kaggle\r\n",
    "\r\n",
    "#Create data objects\r\n",
    "train_data = pd.read_csv('/content/kaggle/train.csv')\r\n",
    "test_data = pd.read_csv('/content/kaggle/test.csv')"
   ]
  },
  {
   "cell_type": "markdown",
   "metadata": {
    "id": "cFQXTklyKA8k"
   },
   "source": [
    "### Check Data"
   ]
  },
  {
   "cell_type": "markdown",
   "metadata": {
    "id": "tJWUpeCIQDSR"
   },
   "source": [
    "#### Summarise Data"
   ]
  },
  {
   "cell_type": "code",
   "execution_count": 3,
   "metadata": {
    "colab": {
     "base_uri": "https://localhost:8080/",
     "height": 317
    },
    "id": "P5jBtFBWP9wZ",
    "outputId": "8e548db7-4382-415f-9fe5-e17f6d38b541"
   },
   "outputs": [
    {
     "data": {
      "text/html": [
       "<div>\n",
       "<style scoped>\n",
       "    .dataframe tbody tr th:only-of-type {\n",
       "        vertical-align: middle;\n",
       "    }\n",
       "\n",
       "    .dataframe tbody tr th {\n",
       "        vertical-align: top;\n",
       "    }\n",
       "\n",
       "    .dataframe thead th {\n",
       "        text-align: right;\n",
       "    }\n",
       "</style>\n",
       "<table border=\"1\" class=\"dataframe\">\n",
       "  <thead>\n",
       "    <tr style=\"text-align: right;\">\n",
       "      <th></th>\n",
       "      <th>Id_old</th>\n",
       "      <th>Id</th>\n",
       "      <th>GP</th>\n",
       "      <th>MIN</th>\n",
       "      <th>PTS</th>\n",
       "      <th>FGM</th>\n",
       "      <th>FGA</th>\n",
       "      <th>FG%</th>\n",
       "      <th>3P Made</th>\n",
       "      <th>3PA</th>\n",
       "      <th>3P%</th>\n",
       "      <th>FTM</th>\n",
       "      <th>FTA</th>\n",
       "      <th>FT%</th>\n",
       "      <th>OREB</th>\n",
       "      <th>DREB</th>\n",
       "      <th>REB</th>\n",
       "      <th>AST</th>\n",
       "      <th>STL</th>\n",
       "      <th>BLK</th>\n",
       "      <th>TOV</th>\n",
       "      <th>TARGET_5Yrs</th>\n",
       "    </tr>\n",
       "  </thead>\n",
       "  <tbody>\n",
       "    <tr>\n",
       "      <th>count</th>\n",
       "      <td>8000.000000</td>\n",
       "      <td>8000.00000</td>\n",
       "      <td>8000.000000</td>\n",
       "      <td>8000.000000</td>\n",
       "      <td>8000.000000</td>\n",
       "      <td>8000.000000</td>\n",
       "      <td>8000.000000</td>\n",
       "      <td>8000.000000</td>\n",
       "      <td>8000.000000</td>\n",
       "      <td>8000.000000</td>\n",
       "      <td>8000.000000</td>\n",
       "      <td>8000.000000</td>\n",
       "      <td>8000.000000</td>\n",
       "      <td>8000.000000</td>\n",
       "      <td>8000.000000</td>\n",
       "      <td>8000.000000</td>\n",
       "      <td>8000.000000</td>\n",
       "      <td>8000.000000</td>\n",
       "      <td>8000.000000</td>\n",
       "      <td>8000.000000</td>\n",
       "      <td>8000.000000</td>\n",
       "      <td>8000.000000</td>\n",
       "    </tr>\n",
       "    <tr>\n",
       "      <th>mean</th>\n",
       "      <td>6856.971000</td>\n",
       "      <td>7798.50000</td>\n",
       "      <td>62.777875</td>\n",
       "      <td>18.576663</td>\n",
       "      <td>7.267087</td>\n",
       "      <td>2.807037</td>\n",
       "      <td>6.231213</td>\n",
       "      <td>44.608900</td>\n",
       "      <td>0.264525</td>\n",
       "      <td>0.816563</td>\n",
       "      <td>19.583700</td>\n",
       "      <td>1.392525</td>\n",
       "      <td>1.947787</td>\n",
       "      <td>71.365825</td>\n",
       "      <td>1.077838</td>\n",
       "      <td>2.168500</td>\n",
       "      <td>3.245300</td>\n",
       "      <td>1.624513</td>\n",
       "      <td>0.648688</td>\n",
       "      <td>0.245212</td>\n",
       "      <td>1.257762</td>\n",
       "      <td>0.833625</td>\n",
       "    </tr>\n",
       "    <tr>\n",
       "      <th>std</th>\n",
       "      <td>3977.447579</td>\n",
       "      <td>2309.54541</td>\n",
       "      <td>17.118774</td>\n",
       "      <td>8.935263</td>\n",
       "      <td>4.318732</td>\n",
       "      <td>1.693373</td>\n",
       "      <td>3.584559</td>\n",
       "      <td>6.155453</td>\n",
       "      <td>0.384093</td>\n",
       "      <td>1.060964</td>\n",
       "      <td>16.003155</td>\n",
       "      <td>0.926153</td>\n",
       "      <td>1.252352</td>\n",
       "      <td>10.430447</td>\n",
       "      <td>0.785670</td>\n",
       "      <td>1.392224</td>\n",
       "      <td>2.085154</td>\n",
       "      <td>1.355986</td>\n",
       "      <td>0.407626</td>\n",
       "      <td>0.821037</td>\n",
       "      <td>0.723270</td>\n",
       "      <td>0.372440</td>\n",
       "    </tr>\n",
       "    <tr>\n",
       "      <th>min</th>\n",
       "      <td>4.000000</td>\n",
       "      <td>3799.00000</td>\n",
       "      <td>-8.000000</td>\n",
       "      <td>2.900000</td>\n",
       "      <td>0.800000</td>\n",
       "      <td>0.300000</td>\n",
       "      <td>0.800000</td>\n",
       "      <td>21.300000</td>\n",
       "      <td>-1.100000</td>\n",
       "      <td>-3.100000</td>\n",
       "      <td>-38.500000</td>\n",
       "      <td>0.000000</td>\n",
       "      <td>0.000000</td>\n",
       "      <td>-13.300000</td>\n",
       "      <td>0.000000</td>\n",
       "      <td>0.200000</td>\n",
       "      <td>0.300000</td>\n",
       "      <td>0.000000</td>\n",
       "      <td>0.000000</td>\n",
       "      <td>-17.900000</td>\n",
       "      <td>0.100000</td>\n",
       "      <td>0.000000</td>\n",
       "    </tr>\n",
       "    <tr>\n",
       "      <th>25%</th>\n",
       "      <td>3413.750000</td>\n",
       "      <td>5798.75000</td>\n",
       "      <td>51.000000</td>\n",
       "      <td>12.000000</td>\n",
       "      <td>4.100000</td>\n",
       "      <td>1.600000</td>\n",
       "      <td>3.600000</td>\n",
       "      <td>40.400000</td>\n",
       "      <td>0.000000</td>\n",
       "      <td>0.100000</td>\n",
       "      <td>8.400000</td>\n",
       "      <td>0.700000</td>\n",
       "      <td>1.000000</td>\n",
       "      <td>65.000000</td>\n",
       "      <td>0.500000</td>\n",
       "      <td>1.100000</td>\n",
       "      <td>1.700000</td>\n",
       "      <td>0.700000</td>\n",
       "      <td>0.300000</td>\n",
       "      <td>0.100000</td>\n",
       "      <td>0.700000</td>\n",
       "      <td>1.000000</td>\n",
       "    </tr>\n",
       "    <tr>\n",
       "      <th>50%</th>\n",
       "      <td>6787.500000</td>\n",
       "      <td>7798.50000</td>\n",
       "      <td>63.000000</td>\n",
       "      <td>16.800000</td>\n",
       "      <td>6.300000</td>\n",
       "      <td>2.400000</td>\n",
       "      <td>5.400000</td>\n",
       "      <td>44.400000</td>\n",
       "      <td>0.300000</td>\n",
       "      <td>0.800000</td>\n",
       "      <td>19.500000</td>\n",
       "      <td>1.200000</td>\n",
       "      <td>1.700000</td>\n",
       "      <td>71.400000</td>\n",
       "      <td>0.900000</td>\n",
       "      <td>1.900000</td>\n",
       "      <td>2.800000</td>\n",
       "      <td>1.300000</td>\n",
       "      <td>0.600000</td>\n",
       "      <td>0.200000</td>\n",
       "      <td>1.100000</td>\n",
       "      <td>1.000000</td>\n",
       "    </tr>\n",
       "    <tr>\n",
       "      <th>75%</th>\n",
       "      <td>10299.250000</td>\n",
       "      <td>9798.25000</td>\n",
       "      <td>74.000000</td>\n",
       "      <td>23.500000</td>\n",
       "      <td>9.500000</td>\n",
       "      <td>3.700000</td>\n",
       "      <td>8.100000</td>\n",
       "      <td>48.700000</td>\n",
       "      <td>0.500000</td>\n",
       "      <td>1.500000</td>\n",
       "      <td>30.600000</td>\n",
       "      <td>1.900000</td>\n",
       "      <td>2.600000</td>\n",
       "      <td>77.500000</td>\n",
       "      <td>1.500000</td>\n",
       "      <td>2.900000</td>\n",
       "      <td>4.300000</td>\n",
       "      <td>2.200000</td>\n",
       "      <td>0.900000</td>\n",
       "      <td>0.400000</td>\n",
       "      <td>1.600000</td>\n",
       "      <td>1.000000</td>\n",
       "    </tr>\n",
       "    <tr>\n",
       "      <th>max</th>\n",
       "      <td>13798.000000</td>\n",
       "      <td>11798.00000</td>\n",
       "      <td>123.000000</td>\n",
       "      <td>73.800000</td>\n",
       "      <td>34.200000</td>\n",
       "      <td>13.100000</td>\n",
       "      <td>28.900000</td>\n",
       "      <td>67.200000</td>\n",
       "      <td>1.700000</td>\n",
       "      <td>4.700000</td>\n",
       "      <td>82.100000</td>\n",
       "      <td>8.100000</td>\n",
       "      <td>11.100000</td>\n",
       "      <td>168.900000</td>\n",
       "      <td>5.500000</td>\n",
       "      <td>11.000000</td>\n",
       "      <td>15.900000</td>\n",
       "      <td>12.800000</td>\n",
       "      <td>3.600000</td>\n",
       "      <td>18.900000</td>\n",
       "      <td>5.300000</td>\n",
       "      <td>1.000000</td>\n",
       "    </tr>\n",
       "  </tbody>\n",
       "</table>\n",
       "</div>"
      ],
      "text/plain": [
       "             Id_old           Id  ...          TOV  TARGET_5Yrs\n",
       "count   8000.000000   8000.00000  ...  8000.000000  8000.000000\n",
       "mean    6856.971000   7798.50000  ...     1.257762     0.833625\n",
       "std     3977.447579   2309.54541  ...     0.723270     0.372440\n",
       "min        4.000000   3799.00000  ...     0.100000     0.000000\n",
       "25%     3413.750000   5798.75000  ...     0.700000     1.000000\n",
       "50%     6787.500000   7798.50000  ...     1.100000     1.000000\n",
       "75%    10299.250000   9798.25000  ...     1.600000     1.000000\n",
       "max    13798.000000  11798.00000  ...     5.300000     1.000000\n",
       "\n",
       "[8 rows x 22 columns]"
      ]
     },
     "execution_count": 3,
     "metadata": {
      "tags": []
     },
     "output_type": "execute_result"
    }
   ],
   "source": [
    "train_data.describe()"
   ]
  },
  {
   "cell_type": "code",
   "execution_count": 4,
   "metadata": {
    "colab": {
     "base_uri": "https://localhost:8080/",
     "height": 317
    },
    "id": "OH7T0LcJQMTZ",
    "outputId": "7614436c-fdd8-4244-d17f-15dd84e89cbd"
   },
   "outputs": [
    {
     "data": {
      "text/html": [
       "<div>\n",
       "<style scoped>\n",
       "    .dataframe tbody tr th:only-of-type {\n",
       "        vertical-align: middle;\n",
       "    }\n",
       "\n",
       "    .dataframe tbody tr th {\n",
       "        vertical-align: top;\n",
       "    }\n",
       "\n",
       "    .dataframe thead th {\n",
       "        text-align: right;\n",
       "    }\n",
       "</style>\n",
       "<table border=\"1\" class=\"dataframe\">\n",
       "  <thead>\n",
       "    <tr style=\"text-align: right;\">\n",
       "      <th></th>\n",
       "      <th>Id_old</th>\n",
       "      <th>Id</th>\n",
       "      <th>GP</th>\n",
       "      <th>MIN</th>\n",
       "      <th>PTS</th>\n",
       "      <th>FGM</th>\n",
       "      <th>FGA</th>\n",
       "      <th>FG%</th>\n",
       "      <th>3P Made</th>\n",
       "      <th>3PA</th>\n",
       "      <th>3P%</th>\n",
       "      <th>FTM</th>\n",
       "      <th>FTA</th>\n",
       "      <th>FT%</th>\n",
       "      <th>OREB</th>\n",
       "      <th>DREB</th>\n",
       "      <th>REB</th>\n",
       "      <th>AST</th>\n",
       "      <th>STL</th>\n",
       "      <th>BLK</th>\n",
       "      <th>TOV</th>\n",
       "    </tr>\n",
       "  </thead>\n",
       "  <tbody>\n",
       "    <tr>\n",
       "      <th>count</th>\n",
       "      <td>3799.000000</td>\n",
       "      <td>3799.000000</td>\n",
       "      <td>3799.000000</td>\n",
       "      <td>3799.000000</td>\n",
       "      <td>3799.000000</td>\n",
       "      <td>3799.000000</td>\n",
       "      <td>3799.000000</td>\n",
       "      <td>3799.000000</td>\n",
       "      <td>3799.000000</td>\n",
       "      <td>3799.000000</td>\n",
       "      <td>3799.000000</td>\n",
       "      <td>3799.000000</td>\n",
       "      <td>3799.000000</td>\n",
       "      <td>3799.000000</td>\n",
       "      <td>3799.000000</td>\n",
       "      <td>3799.000000</td>\n",
       "      <td>3799.000000</td>\n",
       "      <td>3799.000000</td>\n",
       "      <td>3799.000000</td>\n",
       "      <td>3799.000000</td>\n",
       "      <td>3799.000000</td>\n",
       "    </tr>\n",
       "    <tr>\n",
       "      <th>mean</th>\n",
       "      <td>7010.614109</td>\n",
       "      <td>1899.000000</td>\n",
       "      <td>62.853909</td>\n",
       "      <td>18.650224</td>\n",
       "      <td>7.328034</td>\n",
       "      <td>2.835404</td>\n",
       "      <td>6.302580</td>\n",
       "      <td>44.599079</td>\n",
       "      <td>0.255962</td>\n",
       "      <td>0.796920</td>\n",
       "      <td>19.234746</td>\n",
       "      <td>1.399842</td>\n",
       "      <td>1.953567</td>\n",
       "      <td>71.612924</td>\n",
       "      <td>1.096025</td>\n",
       "      <td>2.179495</td>\n",
       "      <td>3.275783</td>\n",
       "      <td>1.636483</td>\n",
       "      <td>0.653593</td>\n",
       "      <td>0.257726</td>\n",
       "      <td>1.257910</td>\n",
       "    </tr>\n",
       "    <tr>\n",
       "      <th>std</th>\n",
       "      <td>3954.173641</td>\n",
       "      <td>1096.821164</td>\n",
       "      <td>17.151740</td>\n",
       "      <td>8.727259</td>\n",
       "      <td>4.294724</td>\n",
       "      <td>1.688427</td>\n",
       "      <td>3.579221</td>\n",
       "      <td>6.040168</td>\n",
       "      <td>0.380987</td>\n",
       "      <td>1.052862</td>\n",
       "      <td>15.968989</td>\n",
       "      <td>0.926140</td>\n",
       "      <td>1.250376</td>\n",
       "      <td>10.457336</td>\n",
       "      <td>0.785678</td>\n",
       "      <td>1.371935</td>\n",
       "      <td>2.070646</td>\n",
       "      <td>1.335496</td>\n",
       "      <td>0.410573</td>\n",
       "      <td>0.639660</td>\n",
       "      <td>0.712449</td>\n",
       "    </tr>\n",
       "    <tr>\n",
       "      <th>min</th>\n",
       "      <td>1.000000</td>\n",
       "      <td>0.000000</td>\n",
       "      <td>6.000000</td>\n",
       "      <td>3.700000</td>\n",
       "      <td>0.700000</td>\n",
       "      <td>0.300000</td>\n",
       "      <td>0.800000</td>\n",
       "      <td>25.100000</td>\n",
       "      <td>-1.000000</td>\n",
       "      <td>-2.700000</td>\n",
       "      <td>-38.000000</td>\n",
       "      <td>0.000000</td>\n",
       "      <td>0.000000</td>\n",
       "      <td>23.700000</td>\n",
       "      <td>0.000000</td>\n",
       "      <td>0.200000</td>\n",
       "      <td>0.300000</td>\n",
       "      <td>0.000000</td>\n",
       "      <td>0.000000</td>\n",
       "      <td>-7.100000</td>\n",
       "      <td>0.100000</td>\n",
       "    </tr>\n",
       "    <tr>\n",
       "      <th>25%</th>\n",
       "      <td>3644.000000</td>\n",
       "      <td>949.500000</td>\n",
       "      <td>51.000000</td>\n",
       "      <td>12.200000</td>\n",
       "      <td>4.200000</td>\n",
       "      <td>1.600000</td>\n",
       "      <td>3.700000</td>\n",
       "      <td>40.500000</td>\n",
       "      <td>0.000000</td>\n",
       "      <td>0.100000</td>\n",
       "      <td>8.500000</td>\n",
       "      <td>0.700000</td>\n",
       "      <td>1.000000</td>\n",
       "      <td>65.000000</td>\n",
       "      <td>0.500000</td>\n",
       "      <td>1.200000</td>\n",
       "      <td>1.800000</td>\n",
       "      <td>0.600000</td>\n",
       "      <td>0.400000</td>\n",
       "      <td>0.100000</td>\n",
       "      <td>0.700000</td>\n",
       "    </tr>\n",
       "    <tr>\n",
       "      <th>50%</th>\n",
       "      <td>7062.000000</td>\n",
       "      <td>1899.000000</td>\n",
       "      <td>63.000000</td>\n",
       "      <td>17.000000</td>\n",
       "      <td>6.400000</td>\n",
       "      <td>2.500000</td>\n",
       "      <td>5.500000</td>\n",
       "      <td>44.600000</td>\n",
       "      <td>0.300000</td>\n",
       "      <td>0.800000</td>\n",
       "      <td>19.400000</td>\n",
       "      <td>1.200000</td>\n",
       "      <td>1.700000</td>\n",
       "      <td>71.500000</td>\n",
       "      <td>0.900000</td>\n",
       "      <td>1.900000</td>\n",
       "      <td>2.800000</td>\n",
       "      <td>1.300000</td>\n",
       "      <td>0.600000</td>\n",
       "      <td>0.200000</td>\n",
       "      <td>1.100000</td>\n",
       "    </tr>\n",
       "    <tr>\n",
       "      <th>75%</th>\n",
       "      <td>10402.500000</td>\n",
       "      <td>2848.500000</td>\n",
       "      <td>74.000000</td>\n",
       "      <td>23.300000</td>\n",
       "      <td>9.400000</td>\n",
       "      <td>3.700000</td>\n",
       "      <td>8.100000</td>\n",
       "      <td>48.500000</td>\n",
       "      <td>0.500000</td>\n",
       "      <td>1.500000</td>\n",
       "      <td>30.250000</td>\n",
       "      <td>1.900000</td>\n",
       "      <td>2.600000</td>\n",
       "      <td>78.000000</td>\n",
       "      <td>1.500000</td>\n",
       "      <td>2.900000</td>\n",
       "      <td>4.300000</td>\n",
       "      <td>2.300000</td>\n",
       "      <td>0.900000</td>\n",
       "      <td>0.400000</td>\n",
       "      <td>1.600000</td>\n",
       "    </tr>\n",
       "    <tr>\n",
       "      <th>max</th>\n",
       "      <td>13792.000000</td>\n",
       "      <td>3798.000000</td>\n",
       "      <td>126.000000</td>\n",
       "      <td>68.000000</td>\n",
       "      <td>33.000000</td>\n",
       "      <td>13.400000</td>\n",
       "      <td>26.200000</td>\n",
       "      <td>74.600000</td>\n",
       "      <td>1.600000</td>\n",
       "      <td>4.300000</td>\n",
       "      <td>73.800000</td>\n",
       "      <td>7.800000</td>\n",
       "      <td>9.800000</td>\n",
       "      <td>127.100000</td>\n",
       "      <td>6.900000</td>\n",
       "      <td>12.000000</td>\n",
       "      <td>18.500000</td>\n",
       "      <td>9.000000</td>\n",
       "      <td>2.700000</td>\n",
       "      <td>14.800000</td>\n",
       "      <td>5.200000</td>\n",
       "    </tr>\n",
       "  </tbody>\n",
       "</table>\n",
       "</div>"
      ],
      "text/plain": [
       "             Id_old           Id  ...          BLK          TOV\n",
       "count   3799.000000  3799.000000  ...  3799.000000  3799.000000\n",
       "mean    7010.614109  1899.000000  ...     0.257726     1.257910\n",
       "std     3954.173641  1096.821164  ...     0.639660     0.712449\n",
       "min        1.000000     0.000000  ...    -7.100000     0.100000\n",
       "25%     3644.000000   949.500000  ...     0.100000     0.700000\n",
       "50%     7062.000000  1899.000000  ...     0.200000     1.100000\n",
       "75%    10402.500000  2848.500000  ...     0.400000     1.600000\n",
       "max    13792.000000  3798.000000  ...    14.800000     5.200000\n",
       "\n",
       "[8 rows x 21 columns]"
      ]
     },
     "execution_count": 4,
     "metadata": {
      "tags": []
     },
     "output_type": "execute_result"
    }
   ],
   "source": [
    "test_data.describe()"
   ]
  },
  {
   "cell_type": "markdown",
   "metadata": {
    "id": "8D21_BigMeSi"
   },
   "source": [
    "#### Check for Missing Values"
   ]
  },
  {
   "cell_type": "code",
   "execution_count": 5,
   "metadata": {
    "colab": {
     "base_uri": "https://localhost:8080/"
    },
    "id": "4q9V0hahMHag",
    "outputId": "4c1df5d8-b12e-4d10-e63f-953220fb43d0"
   },
   "outputs": [
    {
     "data": {
      "text/plain": [
       "Id_old         0\n",
       "Id             0\n",
       "GP             0\n",
       "MIN            0\n",
       "PTS            0\n",
       "FGM            0\n",
       "FGA            0\n",
       "FG%            0\n",
       "3P Made        0\n",
       "3PA            0\n",
       "3P%            0\n",
       "FTM            0\n",
       "FTA            0\n",
       "FT%            0\n",
       "OREB           0\n",
       "DREB           0\n",
       "REB            0\n",
       "AST            0\n",
       "STL            0\n",
       "BLK            0\n",
       "TOV            0\n",
       "TARGET_5Yrs    0\n",
       "dtype: int64"
      ]
     },
     "execution_count": 5,
     "metadata": {
      "tags": []
     },
     "output_type": "execute_result"
    }
   ],
   "source": [
    "# Check for NULL values in train data\r\n",
    "train_data.isnull().sum()"
   ]
  },
  {
   "cell_type": "code",
   "execution_count": 6,
   "metadata": {
    "colab": {
     "base_uri": "https://localhost:8080/"
    },
    "id": "W4CaKAjWKA8o",
    "outputId": "bdd18aa3-4dcf-4d84-9675-7f498546ecef"
   },
   "outputs": [
    {
     "data": {
      "text/plain": [
       "Id_old     0\n",
       "Id         0\n",
       "GP         0\n",
       "MIN        0\n",
       "PTS        0\n",
       "FGM        0\n",
       "FGA        0\n",
       "FG%        0\n",
       "3P Made    0\n",
       "3PA        0\n",
       "3P%        0\n",
       "FTM        0\n",
       "FTA        0\n",
       "FT%        0\n",
       "OREB       0\n",
       "DREB       0\n",
       "REB        0\n",
       "AST        0\n",
       "STL        0\n",
       "BLK        0\n",
       "TOV        0\n",
       "dtype: int64"
      ]
     },
     "execution_count": 6,
     "metadata": {
      "tags": []
     },
     "output_type": "execute_result"
    }
   ],
   "source": [
    "# Check for NULL values in test data\r\n",
    "test_data.isnull().sum()"
   ]
  },
  {
   "cell_type": "markdown",
   "metadata": {
    "id": "W9HBn5t_RMit"
   },
   "source": [
    "#### Target Variable Balance Check"
   ]
  },
  {
   "cell_type": "markdown",
   "metadata": {
    "id": "8-hITH1OBycL"
   },
   "source": [
    "Check distribution of target variable. It appears unbalanced, but within the context (NBA players still in the league), reasonable. I will not treat it as an issue at this point."
   ]
  },
  {
   "cell_type": "code",
   "execution_count": 7,
   "metadata": {
    "colab": {
     "base_uri": "https://localhost:8080/",
     "height": 265
    },
    "id": "NGUtuhwiQlMs",
    "outputId": "3fe98bc5-07ee-47da-cf0d-0033578f3c15"
   },
   "outputs": [
    {
     "data": {
      "image/png": "[encoded data removed]",
      "text/plain": [
       "<Figure size 432x288 with 1 Axes>"
      ]
     },
     "metadata": {
      "needs_background": "light",
      "tags": []
     },
     "output_type": "display_data"
    }
   ],
   "source": [
    "# Check distribution balance of target variable\r\n",
    "train_data.TARGET_5Yrs.value_counts().plot(kind='barh')\r\n",
    "plt.show()"
   ]
  },
  {
   "cell_type": "markdown",
   "metadata": {
    "id": "hvWCQ07P0Z32"
   },
   "source": [
    "## **Define Train and Test Data**"
   ]
  },
  {
   "cell_type": "markdown",
   "metadata": {
    "id": "6sOiSn7FCE0F"
   },
   "source": [
    "### Drop unused variables"
   ]
  },
  {
   "cell_type": "markdown",
   "metadata": {
    "id": "kt60DMkxDCsn"
   },
   "source": [
    "Here variables that will not be used to train are dropped from the subset. The target variable is also dropped. Standardisation is being applied as this is a common requirement for many scikit-learn machine learning estimators. If individual features are not standard normally distributed data, the model may produce suboptimal outputs. Here the standardisation is scaling features to lie between a given minimum and maximum value."
   ]
  },
  {
   "cell_type": "code",
   "execution_count": 25,
   "metadata": {
    "colab": {
     "base_uri": "https://localhost:8080/"
    },
    "id": "2Ys3UUUqEduQ",
    "outputId": "98ff45c6-32d5-4c3b-baff-0ce36e76a983"
   },
   "outputs": [
    {
     "name": "stdout",
     "output_type": "stream",
     "text": [
      "(8000, 22)\n",
      "(5120, 19)\n",
      "(1280, 19)\n",
      "(1600, 19)\n"
     ]
    }
   ],
   "source": [
    "train_data_x = train_data.copy()\r\n",
    "train_data_x = train_data_x.drop(['Id_old', 'Id'], axis=1)\r\n",
    "train_data_target = train_data_x.pop('TARGET_5Yrs')\r\n",
    "\r\n",
    "test_data_x = test_data.drop(['Id_old', 'Id'], axis=1)\r\n",
    "\r\n",
    "scaler = MinMaxScaler()\r\n",
    "df_train_scaled = pd.DataFrame(scaler.fit_transform(train_data_x), columns=train_data_x.columns)\r\n",
    "\r\n",
    "X_data, X_test, y_data, y_test = train_test_split(df_train_scaled, train_data_target, test_size=0.2, random_state=42)\r\n",
    "X_train, X_val, y_train, y_val = train_test_split(X_data, y_data, test_size=0.2, random_state=42)\r\n",
    "\r\n",
    "print(train_data.shape)\r\n",
    "print(X_train.shape)\r\n",
    "print(X_val.shape)\r\n",
    "print(X_test.shape)"
   ]
  },
  {
   "cell_type": "markdown",
   "metadata": {
    "id": "tfLX-f-LDyTF"
   },
   "source": [
    "##**Modelling**"
   ]
  },
  {
   "cell_type": "markdown",
   "metadata": {
    "id": "wdxiL2r8raZe"
   },
   "source": [
    "###Regular Gradient Boost"
   ]
  },
  {
   "cell_type": "code",
   "execution_count": 13,
   "metadata": {
    "colab": {
     "base_uri": "https://localhost:8080/"
    },
    "id": "7GrNMOjLa81s",
    "outputId": "e549978e-4c56-459a-f1ee-27c87c35fa10"
   },
   "outputs": [
    {
     "name": "stdout",
     "output_type": "stream",
     "text": [
      "Learning rate:  0.05\n",
      "Accuracy score (training): 0.831\n",
      "Accuracy score (validation): 0.841\n",
      "Learning rate:  0.075\n",
      "Accuracy score (training): 0.831\n",
      "Accuracy score (validation): 0.841\n",
      "Learning rate:  0.1\n",
      "Accuracy score (training): 0.831\n",
      "Accuracy score (validation): 0.841\n",
      "Learning rate:  0.25\n",
      "Accuracy score (training): 0.834\n",
      "Accuracy score (validation): 0.840\n",
      "Learning rate:  0.5\n",
      "Accuracy score (training): 0.836\n",
      "Accuracy score (validation): 0.843\n",
      "Learning rate:  0.75\n",
      "Accuracy score (training): 0.839\n",
      "Accuracy score (validation): 0.836\n",
      "Learning rate:  1\n",
      "Accuracy score (training): 0.840\n",
      "Accuracy score (validation): 0.838\n"
     ]
    }
   ],
   "source": [
    "state = 12\r\n",
    "lr_list = [0.05, 0.075, 0.1, 0.25, 0.5, 0.75, 1]\r\n",
    "\r\n",
    "for learning_rate in lr_list:\r\n",
    "    gb_clf = GradientBoostingClassifier(n_estimators=20, learning_rate=learning_rate, max_features=2, max_depth=2, random_state=state)\r\n",
    "    gb_clf.fit(X_train, y_train)\r\n",
    "\r\n",
    "    print(\"Learning rate: \", learning_rate)\r\n",
    "    print(\"Accuracy score (training): {0:.3f}\".format(gb_clf.score(X_train, y_train)))\r\n",
    "    print(\"Accuracy score (validation): {0:.3f}\".format(gb_clf.score(X_val, y_val)))"
   ]
  },
  {
   "cell_type": "code",
   "execution_count": 14,
   "metadata": {
    "colab": {
     "base_uri": "https://localhost:8080/"
    },
    "id": "zQ6FIqTma83q",
    "outputId": "bfeccf73-86da-4b82-bde9-0c8897217dc9"
   },
   "outputs": [
    {
     "name": "stdout",
     "output_type": "stream",
     "text": [
      "Confusion Matrix:\n",
      "[[   0  203]\n",
      " [   0 1077]]\n",
      "Classification Report\n",
      "              precision    recall  f1-score   support\n",
      "\n",
      "           0       0.00      0.00      0.00       203\n",
      "           1       0.84      1.00      0.91      1077\n",
      "\n",
      "    accuracy                           0.84      1280\n",
      "   macro avg       0.42      0.50      0.46      1280\n",
      "weighted avg       0.71      0.84      0.77      1280\n",
      "\n"
     ]
    },
    {
     "name": "stderr",
     "output_type": "stream",
     "text": [
      "/usr/local/lib/python3.6/dist-packages/sklearn/metrics/_classification.py:1272: UndefinedMetricWarning: Precision and F-score are ill-defined and being set to 0.0 in labels with no predicted samples. Use `zero_division` parameter to control this behavior.\n",
      "  _warn_prf(average, modifier, msg_start, len(result))\n"
     ]
    }
   ],
   "source": [
    "gb_clf2 = GradientBoostingClassifier(n_estimators=20, learning_rate=0.1, max_features=2, max_depth=2, random_state=state)\r\n",
    "gb_clf2.fit(X_train, y_train)\r\n",
    "predictions = gb_clf2.predict(X_val)\r\n",
    "\r\n",
    "print(\"Confusion Matrix:\")\r\n",
    "print(confusion_matrix(y_val, predictions))\r\n",
    "\r\n",
    "print(\"Classification Report\")\r\n",
    "print(classification_report(y_val, predictions))"
   ]
  },
  {
   "cell_type": "markdown",
   "metadata": {
    "id": "Cxu0cRx4rjmY"
   },
   "source": [
    "**ROC AUC**"
   ]
  },
  {
   "cell_type": "code",
   "execution_count": 15,
   "metadata": {
    "colab": {
     "base_uri": "https://localhost:8080/"
    },
    "id": "ICHIB74Na9Ac",
    "outputId": "5f80a956-da45-4a07-bb2f-05acc38f2823"
   },
   "outputs": [
    {
     "data": {
      "text/plain": [
       "0.7006165639822348"
      ]
     },
     "execution_count": 15,
     "metadata": {
      "tags": []
     },
     "output_type": "execute_result"
    }
   ],
   "source": [
    "roc_auc_score(y_val, gb_clf2.predict_proba(X_val)[:,1])"
   ]
  },
  {
   "cell_type": "markdown",
   "metadata": {
    "id": "--EEvmDzrU2-"
   },
   "source": [
    "###XGBoost"
   ]
  },
  {
   "cell_type": "code",
   "execution_count": 16,
   "metadata": {
    "colab": {
     "base_uri": "https://localhost:8080/"
    },
    "id": "j9bhL6MCqQ4W",
    "outputId": "3c106d82-e0d9-4208-8ba4-96523d962d32"
   },
   "outputs": [
    {
     "name": "stdout",
     "output_type": "stream",
     "text": [
      "Learning rate:  0.01\n",
      "Accuracy score (training): 0.831\n",
      "Accuracy score (validation): 0.841\n",
      "Learning rate:  0.05\n",
      "Accuracy score (training): 0.831\n",
      "Accuracy score (validation): 0.841\n",
      "Learning rate:  0.075\n",
      "Accuracy score (training): 0.831\n",
      "Accuracy score (validation): 0.841\n",
      "Learning rate:  0.1\n",
      "Accuracy score (training): 0.831\n",
      "Accuracy score (validation): 0.841\n",
      "Learning rate:  0.25\n",
      "Accuracy score (training): 0.834\n",
      "Accuracy score (validation): 0.839\n",
      "Learning rate:  0.5\n",
      "Accuracy score (training): 0.837\n",
      "Accuracy score (validation): 0.842\n",
      "Learning rate:  0.75\n",
      "Accuracy score (training): 0.838\n",
      "Accuracy score (validation): 0.841\n",
      "Learning rate:  1\n",
      "Accuracy score (training): 0.843\n",
      "Accuracy score (validation): 0.846\n"
     ]
    }
   ],
   "source": [
    "lr_list_x = [0.01,0.05, 0.075, 0.1, 0.25, 0.5, 0.75, 1]\r\n",
    "\r\n",
    "for learning_rate in lr_list_x:\r\n",
    "    xgb_clf = XGBClassifier(n_estimators=20, learning_rate=learning_rate, max_features=2, max_depth=2, random_state=state)\r\n",
    "    xgb_clf.fit(X_train, y_train)\r\n",
    "\r\n",
    "    print(\"Learning rate: \", learning_rate)\r\n",
    "    print(\"Accuracy score (training): {0:.3f}\".format(xgb_clf.score(X_train, y_train)))\r\n",
    "    print(\"Accuracy score (validation): {0:.3f}\".format(xgb_clf.score(X_val, y_val)))"
   ]
  },
  {
   "cell_type": "code",
   "execution_count": 17,
   "metadata": {
    "colab": {
     "base_uri": "https://localhost:8080/"
    },
    "id": "fzO63XSOa86q",
    "outputId": "7ad1b6de-2e32-4a39-f866-a773001e0ec2"
   },
   "outputs": [
    {
     "data": {
      "text/plain": [
       "XGBClassifier(base_score=0.5, booster='gbtree', colsample_bylevel=1,\n",
       "              colsample_bynode=1, colsample_bytree=1, gamma=8,\n",
       "              learning_rate=0.9, max_delta_step=1, max_depth=4,\n",
       "              min_child_weight=1, missing=None, n_estimators=300, n_jobs=1,\n",
       "              nthread=None, objective='binary:logistic', random_state=12,\n",
       "              reg_alpha=0, reg_lambda=0, scale_pos_weight=1, seed=None,\n",
       "              silent=None, subsample=1, verbosity=1)"
      ]
     },
     "execution_count": 17,
     "metadata": {
      "tags": []
     },
     "output_type": "execute_result"
    }
   ],
   "source": [
    "xgb_clf = XGBClassifier(learning_rate=0.9,\r\n",
    "                        n_estimators=300,\r\n",
    "                        max_depth=4,\r\n",
    "                        colsample_bynode=1,\r\n",
    "                        gamma=8,\r\n",
    "                        max_delta_step=1,\r\n",
    "                        min_child_weight=1, \r\n",
    "                        missing=None, \r\n",
    "                        n_jobs=1,\r\n",
    "                        nthread=None, \r\n",
    "                        objective='binary:logistic', \r\n",
    "                        random_state=state,\r\n",
    "                        reg_alpha=0, \r\n",
    "                        reg_lambda=0, \r\n",
    "                        scale_pos_weight=1, \r\n",
    "                        seed=None,\r\n",
    "                        silent=None, subsample=1, verbosity=1)\r\n",
    "\r\n",
    "xgb_clf.fit(X_train, y_train)"
   ]
  },
  {
   "cell_type": "markdown",
   "metadata": {
    "id": "tzvoFgHbro5W"
   },
   "source": [
    "**ROC AUC**"
   ]
  },
  {
   "cell_type": "code",
   "execution_count": 24,
   "metadata": {
    "colab": {
     "base_uri": "https://localhost:8080/"
    },
    "id": "hY0M7xyyoswD",
    "outputId": "30bb64aa-2b69-4b15-fb25-ad5f9935fe7a"
   },
   "outputs": [
    {
     "data": {
      "text/plain": [
       "0.7223609643646144"
      ]
     },
     "execution_count": 24,
     "metadata": {
      "tags": []
     },
     "output_type": "execute_result"
    }
   ],
   "source": [
    "roc_auc_score(y_val, xgb_clf.predict_proba(X_val)[:,1])"
   ]
  },
  {
   "cell_type": "markdown",
   "metadata": {
    "id": "ZF9RWn5uzb_t"
   },
   "source": [
    "###Export Probabilities"
   ]
  },
  {
   "cell_type": "code",
   "execution_count": 23,
   "metadata": {
    "id": "3Qn6vKp0Kray"
   },
   "outputs": [],
   "source": [
    "submission = xgb_clf.predict_proba(test_data_x)[:,1]\r\n",
    "submission = pd.DataFrame({'Id':test_data['Id'], 'TARGET_5Yrs':submission})\r\n",
    "submission.to_csv(\"/content/output/AdaBoostClassifier_Predictions.csv\", index=False)"
   ]
  },
  {
   "cell_type": "markdown",
   "metadata": {
    "id": "8rYdjDO1EeO7"
   },
   "source": [
    "## **Conclusion**"
   ]
  },
  {
   "cell_type": "markdown",
   "metadata": {
    "id": "4gXMCPT2EePa"
   },
   "source": [
    "Initial result. Next model to include hyperparameter tuning. Will try to improve AUC in exp2."
   ]
  }
 ],
 "metadata": {
  "colab": {
   "name": "schott_werner_10930194_week1_exp1_V2.ipynb",
   "provenance": [],
   "toc_visible": true
  },
  "kernelspec": {
   "display_name": "Python 3",
   "language": "python",
   "name": "python3"
  },
  "language_info": {
   "codemirror_mode": {
    "name": "ipython",
    "version": 3
   },
   "file_extension": ".py",
   "mimetype": "text/x-python",
   "name": "python",
   "nbconvert_exporter": "python",
   "pygments_lexer": "ipython3",
   "version": "3.7.6"
  }
 },
 "nbformat": 4,
 "nbformat_minor": 4
}
