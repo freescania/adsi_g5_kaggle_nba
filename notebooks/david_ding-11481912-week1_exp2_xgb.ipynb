{
 "cells": [
  {
   "cell_type": "markdown",
   "metadata": {},
   "source": [
    "# Data Preparation"
   ]
  },
  {
   "cell_type": "code",
   "execution_count": 9,
   "metadata": {},
   "outputs": [
    {
     "name": "stdout",
     "output_type": "stream",
     "text": [
      "(8000, 22)\n",
      "(3799, 21)\n"
     ]
    }
   ],
   "source": [
    "import pandas as pd\n",
    "import numpy as np\n",
    "import sys\n",
    "\n",
    "sys.path.append(\"/home/jovyan/work\")\n",
    "\n",
    "train_data = pd.read_csv('../data/raw/train.csv')\n",
    "test_data = pd.read_csv('../data/raw/test.csv')\n",
    "print(train_data.shape)\n",
    "print(test_data.shape)"
   ]
  },
  {
   "cell_type": "code",
   "execution_count": 2,
   "metadata": {},
   "outputs": [
    {
     "name": "stdout",
     "output_type": "stream",
     "text": [
      "(8000, 22)\n",
      "(5120, 19)\n",
      "(1280, 19)\n",
      "(1600, 19)\n"
     ]
    }
   ],
   "source": [
    "from sklearn.model_selection import train_test_split\n",
    "from sklearn.preprocessing import MinMaxScaler\n",
    "\n",
    "train_data_x = train_data.copy()\n",
    "train_data_x = train_data_x.drop(['Id_old', 'Id'], axis=1)\n",
    "train_data_target = train_data_x.pop('TARGET_5Yrs')\n",
    "\n",
    "test_data_x = test_data.drop(['Id_old', 'Id'], axis=1)\n",
    "\n",
    "scaler = MinMaxScaler()\n",
    "df_train_scaled = pd.DataFrame(scaler.fit_transform(train_data_x), columns=train_data_x.columns)\n",
    "\n",
    "X_data, X_test, y_data, y_test = train_test_split(df_train_scaled, train_data_target, test_size=0.2, random_state=42)\n",
    "X_train, X_val, y_train, y_val = train_test_split(X_data, y_data, test_size=0.2, random_state=42)\n",
    "\n",
    "print(train_data.shape)\n",
    "print(X_train.shape)\n",
    "print(X_val.shape)\n",
    "print(X_test.shape)"
   ]
  },
  {
   "cell_type": "markdown",
   "metadata": {},
   "source": [
    "## Experiment 1: XGBoost "
   ]
  },
  {
   "cell_type": "code",
   "execution_count": 32,
   "metadata": {},
   "outputs": [
    {
     "data": {
      "text/plain": [
       "GradientBoostingClassifier(learning_rate=0.01, max_depth=1, random_state=0)"
      ]
     },
     "execution_count": 32,
     "metadata": {},
     "output_type": "execute_result"
    }
   ],
   "source": [
    "from sklearn.ensemble import GradientBoostingClassifier\n",
    "\n",
    "clf = GradientBoostingClassifier(n_estimators=100, learning_rate=0.01, max_depth=1, random_state=0)\n",
    "clf.fit(X_train, y_train)"
   ]
  },
  {
   "cell_type": "code",
   "execution_count": 33,
   "metadata": {},
   "outputs": [
    {
     "name": "stdout",
     "output_type": "stream",
     "text": [
      "1003 out of 1280 or 78% of players are predicted to be 5+ Yrs\n",
      "ROC_AUC Score: 0.715\n",
      "[[ 89 114]\n",
      " [188 889]]\n",
      "0.8254410399257196\n",
      "0.7640625\n",
      "0.6319323426229584\n",
      "0.8548076923076924\n"
     ]
    }
   ],
   "source": [
    "from sklearn.metrics import roc_auc_score, confusion_matrix, accuracy_score, f1_score, precision_score, recall_score, balanced_accuracy_score\n",
    "\n",
    "thr=0.8\n",
    "pred = clf.predict_proba(X_val)[:,1]\n",
    "predx = [x for x in pred > thr]\n",
    "print(f'{np.sum(predx)} out of {len(predx)} or {int(round(np.sum(predx)/len(predx)*100,0))}% of players are predicted to be 5+ Yrs')\n",
    "print(f'ROC_AUC Score: {round(roc_auc_score(y_val, pred),3)}')\n",
    "\n",
    "print(confusion_matrix(y_val, predx))\n",
    "print(recall_score(y_val, predx))\n",
    "print(accuracy_score(y_val, predx))\n",
    "print(balanced_accuracy_score(y_val, predx))\n",
    "print(f1_score(y_val, predx))"
   ]
  },
  {
   "cell_type": "code",
   "execution_count": 34,
   "metadata": {},
   "outputs": [
    {
     "name": "stdout",
     "output_type": "stream",
     "text": [
      "No Skill: ROC AUC=0.500\n",
      "Logistic: ROC AUC=0.715\n"
     ]
    },
    {
     "data": {
      "image/png": "[encoded data removed]",
      "text/plain": [
       "<Figure size 432x288 with 1 Axes>"
      ]
     },
     "metadata": {
      "needs_background": "light"
     },
     "output_type": "display_data"
    }
   ],
   "source": [
    "from src.visualization.visualize import plot_roc_curve\n",
    "plot_roc_curve(pred, y_val)"
   ]
  },
  {
   "cell_type": "code",
   "execution_count": 29,
   "metadata": {},
   "outputs": [
    {
     "name": "stdout",
     "output_type": "stream",
     "text": [
      "1150 out of 1600 or 72% of players are predicted to be 5+ Yrs\n",
      "ROC_AUC Score: 0.71\n",
      "[[ 136  127]\n",
      " [ 314 1023]]\n",
      "0.7651458489154824\n",
      "0.724375\n",
      "0.6411280575375891\n",
      "0.8226779252110977\n"
     ]
    }
   ],
   "source": [
    "thr=0.8\n",
    "pred = clf.predict_proba(X_test)[:,1]\n",
    "predx = [x for x in pred > thr]\n",
    "print(f'{np.sum(predx)} out of {len(predx)} or {int(round(np.sum(predx)/len(predx)*100,0))}% of players are predicted to be 5+ Yrs')\n",
    "print(f'ROC_AUC Score: {round(roc_auc_score(y_test, pred),3)}')\n",
    "\n",
    "print(confusion_matrix(y_test, predx))\n",
    "print(recall_score(y_test, predx))\n",
    "print(accuracy_score(y_test, predx))\n",
    "print(balanced_accuracy_score(y_test, predx))\n",
    "print(f1_score(y_test, predx))"
   ]
  },
  {
   "cell_type": "markdown",
   "metadata": {},
   "source": [
    "## Experiment 2: XGBoost with Random Search CV"
   ]
  },
  {
   "cell_type": "code",
   "execution_count": 12,
   "metadata": {},
   "outputs": [
    {
     "data": {
      "text/plain": [
       "GradientBoostingClassifier(learning_rate=0.01, max_depth=1, random_state=42)"
      ]
     },
     "execution_count": 12,
     "metadata": {},
     "output_type": "execute_result"
    }
   ],
   "source": [
    "clf = GradientBoostingClassifier(n_estimators=100, learning_rate=0.01, max_depth=1, random_state=42)\n",
    "clf.fit(X_train, y_train)"
   ]
  },
  {
   "cell_type": "code",
   "execution_count": 19,
   "metadata": {},
   "outputs": [],
   "source": [
    "param_grid = {\n",
    "        'max_depth': [3, 6, 10, 15, 20],\n",
    "        'learning_rate': [0.001, 0.01, 0.1, 0.2, 0,3],\n",
    "        'subsample': [0.5, 0.6, 0.7, 0.8, 0.9, 1.0],\n",
    "        'n_estimators': [50, 100, 200]}"
   ]
  },
  {
   "cell_type": "code",
   "execution_count": 20,
   "metadata": {},
   "outputs": [
    {
     "name": "stdout",
     "output_type": "stream",
     "text": [
      "Fitting 5 folds for each of 100 candidates, totalling 500 fits\n"
     ]
    },
    {
     "name": "stderr",
     "output_type": "stream",
     "text": [
      "/opt/conda/lib/python3.7/site-packages/sklearn/model_selection/_search.py:921: UserWarning: One or more of the test scores are non-finite: [0.6422271  0.65042826 0.61411328 0.64465607 0.48186017 0.56988718\n",
      " 0.62046284        nan 0.63418352        nan 0.69131929 0.68363911\n",
      "        nan 0.64027088 0.67416368 0.66811843 0.51618429 0.69136956\n",
      " 0.59804786 0.65344274        nan 0.68845289 0.6332842  0.56284616\n",
      " 0.53131916 0.69142661 0.67759793 0.65425783 0.68834625 0.63307364\n",
      "        nan 0.65108305 0.63711241 0.54712035 0.65914565 0.49058367\n",
      "        nan 0.64967295 0.67192762 0.65525631 0.64522391 0.51618565\n",
      " 0.66802062 0.49776326 0.55936029 0.6509866         nan        nan\n",
      " 0.62518424 0.68513887 0.64760669 0.49927389 0.49442682 0.69157944\n",
      " 0.4847354  0.64449305 0.69171936        nan        nan 0.65851939\n",
      " 0.65433934 0.63710018 0.63325567 0.5120348  0.64836065 0.51605592\n",
      " 0.51852768        nan 0.66381068 0.66399272 0.65276485 0.57661439\n",
      " 0.63959164 0.64820171 0.65050434 0.64832805 0.64990932 0.65244969\n",
      " 0.65796105 0.63986334 0.65822596 0.68359563 0.65317376 0.64688262\n",
      " 0.69038194 0.67830977 0.53138232 0.67871392 0.66383378 0.69049673\n",
      " 0.57170075 0.64987128 0.64671417 0.64160016        nan 0.63798455\n",
      "        nan 0.68228062 0.66747723        nan]\n",
      "  category=UserWarning\n"
     ]
    },
    {
     "data": {
      "text/plain": [
       "RandomizedSearchCV(cv=5,\n",
       "                   estimator=GradientBoostingClassifier(learning_rate=0.01,\n",
       "                                                        max_depth=1,\n",
       "                                                        random_state=42),\n",
       "                   n_iter=100, n_jobs=-1,\n",
       "                   param_distributions={'learning_rate': [0.001, 0.01, 0.1, 0.2,\n",
       "                                                          0, 3],\n",
       "                                        'max_depth': [3, 6, 10, 15, 20],\n",
       "                                        'n_estimators': [50, 100, 200],\n",
       "                                        'subsample': [0.5, 0.6, 0.7, 0.8, 0.9,\n",
       "                                                      1.0]},\n",
       "                   random_state=42, scoring='roc_auc', verbose=2)"
      ]
     },
     "execution_count": 20,
     "metadata": {},
     "output_type": "execute_result"
    }
   ],
   "source": [
    "from sklearn.model_selection import RandomizedSearchCV\n",
    "xgb_rcv = RandomizedSearchCV(estimator=clf, param_distributions=param_grid, n_iter=100, cv=5, verbose=2, random_state=42, n_jobs=-1, scoring='roc_auc')\n",
    "xgb_rcv.fit(X_train, y_train)"
   ]
  },
  {
   "cell_type": "code",
   "execution_count": 38,
   "metadata": {},
   "outputs": [
    {
     "name": "stdout",
     "output_type": "stream",
     "text": [
      "{'subsample': 0.7, 'n_estimators': 200, 'max_depth': 3, 'learning_rate': 0.01}\n",
      "935 out of 1280 or 73% of players are predicted to be 5+ Yrs\n",
      "ROC_AUC Score: 0.722\n",
      "[[101 102]\n",
      " [244 833]]\n",
      "0.7734447539461468\n",
      "0.7296875\n",
      "0.6354908498794773\n",
      "0.8280318091451293\n",
      "No Skill: ROC AUC=0.500\n",
      "Logistic: ROC AUC=0.722\n"
     ]
    },
    {
     "data": {
      "image/png": "[encoded data removed]",
      "text/plain": [
       "<Figure size 432x288 with 1 Axes>"
      ]
     },
     "metadata": {
      "needs_background": "light"
     },
     "output_type": "display_data"
    }
   ],
   "source": [
    "from sklearn.metrics import confusion_matrix, accuracy_score, f1_score, precision_score, recall_score, balanced_accuracy_score\n",
    "\n",
    "thr = 0.8\n",
    "pred = xgb_rcv.predict_proba(X_val)[:,1]\n",
    "predx = [x for x in pred > thr]\n",
    "print(xgb_rcv.best_params_)\n",
    "print(f'{np.sum(predx)} out of {len(predx)} or {int(round(np.sum(predx)/len(predx)*100,0))}% of players are predicted to be 5+ Yrs')\n",
    "print(f'ROC_AUC Score: {round(roc_auc_score(y_val, pred),3)}')\n",
    "\n",
    "print(confusion_matrix(y_val, predx))\n",
    "print(recall_score(y_val, predx))\n",
    "print(accuracy_score(y_val, predx))\n",
    "print(balanced_accuracy_score(y_val, predx))\n",
    "print(f1_score(y_val, predx))\n",
    "plot_roc_curve(pred, y_val)"
   ]
  },
  {
   "cell_type": "code",
   "execution_count": 42,
   "metadata": {},
   "outputs": [],
   "source": [
    "submission = xgb_rcv.predict_proba(test_data_x)[:,1]\n",
    "submission = pd.DataFrame({'Id':test_data['Id'], 'TARGET_5Yrs':submission})\n",
    "submission.to_csv(\"../data/submission/0203_xgb_pred.csv\", index=False)"
   ]
  }
 ],
 "metadata": {
  "kernelspec": {
   "display_name": "Python 3",
   "language": "python",
   "name": "python3"
  },
  "language_info": {
   "codemirror_mode": {
    "name": "ipython",
    "version": 3
   },
   "file_extension": ".py",
   "mimetype": "text/x-python",
   "name": "python",
   "nbconvert_exporter": "python",
   "pygments_lexer": "ipython3",
   "version": "3.7.6"
  }
 },
 "nbformat": 4,
 "nbformat_minor": 4
}
